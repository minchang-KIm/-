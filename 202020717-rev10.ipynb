{
 "cells": [
  {
   "cell_type": "markdown",
   "id": "6e797c35",
   "metadata": {
    "papermill": {
     "duration": 0.007972,
     "end_time": "2024-10-16T06:46:25.386761",
     "exception": false,
     "start_time": "2024-10-16T06:46:25.378789",
     "status": "completed"
    },
    "tags": []
   },
   "source": [
    "# 1: 라이브러리 임포트"
   ]
  },
  {
   "cell_type": "code",
   "execution_count": 1,
   "id": "e6c99650",
   "metadata": {
    "execution": {
     "iopub.execute_input": "2024-10-16T06:46:25.400946Z",
     "iopub.status.busy": "2024-10-16T06:46:25.400654Z",
     "iopub.status.idle": "2024-10-16T06:46:43.928976Z",
     "shell.execute_reply": "2024-10-16T06:46:43.928012Z"
    },
    "papermill": {
     "duration": 18.538199,
     "end_time": "2024-10-16T06:46:43.931451",
     "exception": false,
     "start_time": "2024-10-16T06:46:25.393252",
     "status": "completed"
    },
    "tags": []
   },
   "outputs": [
    {
     "name": "stdout",
     "output_type": "stream",
     "text": [
      "Collecting torchsummary\r\n",
      "  Downloading torchsummary-1.5.1-py3-none-any.whl.metadata (296 bytes)\r\n",
      "Downloading torchsummary-1.5.1-py3-none-any.whl (2.8 kB)\r\n",
      "Installing collected packages: torchsummary\r\n",
      "Successfully installed torchsummary-1.5.1\r\n"
     ]
    }
   ],
   "source": [
    "import torch\n",
    "import torch.nn as nn\n",
    "import torch.nn.functional as F\n",
    "import numpy as np\n",
    "import pandas as pd\n",
    "from sklearn.model_selection import train_test_split\n",
    "from torch.utils.data import DataLoader, Dataset\n",
    "import torchvision.transforms as transforms\n",
    "!pip install torchsummary\n",
    "from torchsummary import summary\n",
    "from sklearn.model_selection import ParameterGrid"
   ]
  },
  {
   "cell_type": "markdown",
   "id": "2863ceb8",
   "metadata": {
    "papermill": {
     "duration": 0.006624,
     "end_time": "2024-10-16T06:46:43.945280",
     "exception": false,
     "start_time": "2024-10-16T06:46:43.938656",
     "status": "completed"
    },
    "tags": []
   },
   "source": [
    "# 2: 커스텀 Dataset 정의"
   ]
  },
  {
   "cell_type": "code",
   "execution_count": 2,
   "id": "e8babd99",
   "metadata": {
    "execution": {
     "iopub.execute_input": "2024-10-16T06:46:43.961715Z",
     "iopub.status.busy": "2024-10-16T06:46:43.960986Z",
     "iopub.status.idle": "2024-10-16T06:46:43.968139Z",
     "shell.execute_reply": "2024-10-16T06:46:43.967331Z"
    },
    "papermill": {
     "duration": 0.018014,
     "end_time": "2024-10-16T06:46:43.969990",
     "exception": false,
     "start_time": "2024-10-16T06:46:43.951976",
     "status": "completed"
    },
    "tags": []
   },
   "outputs": [],
   "source": [
    "\n",
    "# - 이미지와 레이블을 전달받아 학습 및 검증을 위한 데이터를 제공\n",
    "class CustomDataset(Dataset):\n",
    "    def __init__(self, images, labels, transform=None):\n",
    "        self.images = images\n",
    "        self.labels = labels\n",
    "        self.transform = transform\n",
    "\n",
    "    def __len__(self):\n",
    "        return len(self.images)\n",
    "\n",
    "    def __getitem__(self, idx):\n",
    "        image = self.images[idx]\n",
    "        label = self.labels[idx]\n",
    "\n",
    "        if self.transform:\n",
    "            image = self.transform(image)\n",
    "\n",
    "        return image, label\n"
   ]
  },
  {
   "cell_type": "markdown",
   "id": "e28ed8d3",
   "metadata": {
    "papermill": {
     "duration": 0.006661,
     "end_time": "2024-10-16T06:46:43.983375",
     "exception": false,
     "start_time": "2024-10-16T06:46:43.976714",
     "status": "completed"
    },
    "tags": []
   },
   "source": [
    "# 3: Squeeze-and-Excitation 모듈 정의"
   ]
  },
  {
   "cell_type": "code",
   "execution_count": 3,
   "id": "024cbcdd",
   "metadata": {
    "execution": {
     "iopub.execute_input": "2024-10-16T06:46:43.997747Z",
     "iopub.status.busy": "2024-10-16T06:46:43.997474Z",
     "iopub.status.idle": "2024-10-16T06:46:44.003807Z",
     "shell.execute_reply": "2024-10-16T06:46:44.003039Z"
    },
    "papermill": {
     "duration": 0.015677,
     "end_time": "2024-10-16T06:46:44.005720",
     "exception": false,
     "start_time": "2024-10-16T06:46:43.990043",
     "status": "completed"
    },
    "tags": []
   },
   "outputs": [],
   "source": [
    "# SE Block 정의\n",
    "class SqueezeExcitation(nn.Module):\n",
    "    def __init__(self, in_channels, reduction=4):\n",
    "        super(SqueezeExcitation, self).__init__()\n",
    "        self.fc1 = nn.Conv2d(in_channels, in_channels // reduction, kernel_size=1)\n",
    "        self.fc2 = nn.Conv2d(in_channels // reduction, in_channels, kernel_size=1)\n",
    "\n",
    "    def forward(self, x):\n",
    "        out = F.adaptive_avg_pool2d(x, 1)\n",
    "        out = F.relu(self.fc1(out))\n",
    "        out = torch.sigmoid(self.fc2(out))\n",
    "        return x * out"
   ]
  },
  {
   "cell_type": "markdown",
   "id": "38bdaaee",
   "metadata": {
    "papermill": {
     "duration": 0.006477,
     "end_time": "2024-10-16T06:46:44.018799",
     "exception": false,
     "start_time": "2024-10-16T06:46:44.012322",
     "status": "completed"
    },
    "tags": []
   },
   "source": [
    "# 4: Conv-BN-ReLU 모듈 정의"
   ]
  },
  {
   "cell_type": "code",
   "execution_count": 4,
   "id": "a7335b54",
   "metadata": {
    "execution": {
     "iopub.execute_input": "2024-10-16T06:46:44.033280Z",
     "iopub.status.busy": "2024-10-16T06:46:44.032937Z",
     "iopub.status.idle": "2024-10-16T06:46:44.039108Z",
     "shell.execute_reply": "2024-10-16T06:46:44.038258Z"
    },
    "papermill": {
     "duration": 0.015549,
     "end_time": "2024-10-16T06:46:44.041056",
     "exception": false,
     "start_time": "2024-10-16T06:46:44.025507",
     "status": "completed"
    },
    "tags": []
   },
   "outputs": [],
   "source": [
    "\n",
    "# - 일반적인 Convolution-BatchNorm-활성화 함수 블록\n",
    "class ConvBNReLU(nn.Module):\n",
    "    def __init__(self, in_channels, out_channels, stride):\n",
    "        super(ConvBNReLU, self).__init__()\n",
    "        self.conv = nn.Conv2d(in_channels, out_channels, kernel_size=3, stride=stride, padding=1, bias=False)\n",
    "        self.bn = nn.BatchNorm2d(out_channels)\n",
    "        self.relu = nn.ReLU(inplace=True)\n",
    "\n",
    "    def forward(self, x):\n",
    "        return self.relu(self.bn(self.conv(x)))\n"
   ]
  },
  {
   "cell_type": "markdown",
   "id": "9155139b",
   "metadata": {
    "papermill": {
     "duration": 0.007023,
     "end_time": "2024-10-16T06:46:44.055091",
     "exception": false,
     "start_time": "2024-10-16T06:46:44.048068",
     "status": "completed"
    },
    "tags": []
   },
   "source": [
    "# 5: Inverted Residual Block 정의"
   ]
  },
  {
   "cell_type": "code",
   "execution_count": 5,
   "id": "1263d2b4",
   "metadata": {
    "execution": {
     "iopub.execute_input": "2024-10-16T06:46:44.069758Z",
     "iopub.status.busy": "2024-10-16T06:46:44.069482Z",
     "iopub.status.idle": "2024-10-16T06:46:44.079358Z",
     "shell.execute_reply": "2024-10-16T06:46:44.078528Z"
    },
    "papermill": {
     "duration": 0.019538,
     "end_time": "2024-10-16T06:46:44.081358",
     "exception": false,
     "start_time": "2024-10-16T06:46:44.061820",
     "status": "completed"
    },
    "tags": []
   },
   "outputs": [],
   "source": [
    "# Inverted Residual Block 정의\n",
    "class InvertedResidual(nn.Module):\n",
    "    def __init__(self, in_channels, out_channels, stride, expand_ratio=4):\n",
    "        super(InvertedResidual, self).__init__()\n",
    "        self.stride = stride\n",
    "        hidden_dim = in_channels * expand_ratio\n",
    "        \n",
    "        # stride가 1이고 in_channels와 out_channels가 같으면 skip connection을 사용\n",
    "        self.use_res_connect = stride == 1 and in_channels == out_channels\n",
    "\n",
    "        # 1x1 Conv -> Expansion\n",
    "        self.conv1 = nn.Conv2d(in_channels, hidden_dim, kernel_size=1, bias=False)\n",
    "        self.bn1 = nn.BatchNorm2d(hidden_dim)\n",
    "\n",
    "        # Depthwise 3x3 Conv\n",
    "        self.conv2 = nn.Conv2d(hidden_dim, hidden_dim, kernel_size=3, stride=stride, padding=1, groups=hidden_dim, bias=False)\n",
    "        self.bn2 = nn.BatchNorm2d(hidden_dim)\n",
    "\n",
    "        # SE Block 적용\n",
    "        self.se = SqueezeExcitation(hidden_dim)\n",
    "\n",
    "        # 1x1 Conv -> Projection\n",
    "        self.conv3 = nn.Conv2d(hidden_dim, out_channels, kernel_size=1, bias=False)\n",
    "        self.bn3 = nn.BatchNorm2d(out_channels)\n",
    "\n",
    "    def forward(self, x):\n",
    "        # 확장 단계\n",
    "        out = F.relu(self.bn1(self.conv1(x)), inplace=True)\n",
    "\n",
    "        # Depthwise Conv + SE Block\n",
    "        out = F.relu(self.bn2(self.conv2(out)), inplace=True)\n",
    "        out = self.se(out)  # Squeeze-and-Excitation 적용\n",
    "\n",
    "        # 축소 단계\n",
    "        out = self.bn3(self.conv3(out))\n",
    "\n",
    "        # Skip connection 적용\n",
    "        if self.use_res_connect:\n",
    "            return x + out  # 입력과 출력을 더함 (Residual 연결)\n",
    "        else:\n",
    "            return out  # skip connection이 없는 경우"
   ]
  },
  {
   "cell_type": "markdown",
   "id": "79b6552d",
   "metadata": {
    "papermill": {
     "duration": 0.006909,
     "end_time": "2024-10-16T06:46:44.095207",
     "exception": false,
     "start_time": "2024-10-16T06:46:44.088298",
     "status": "completed"
    },
    "tags": []
   },
   "source": [
    "# Squeeze-and-Excitation block"
   ]
  },
  {
   "cell_type": "code",
   "execution_count": 6,
   "id": "08bdd993",
   "metadata": {
    "execution": {
     "iopub.execute_input": "2024-10-16T06:46:44.110633Z",
     "iopub.status.busy": "2024-10-16T06:46:44.110073Z",
     "iopub.status.idle": "2024-10-16T06:46:44.117418Z",
     "shell.execute_reply": "2024-10-16T06:46:44.116547Z"
    },
    "papermill": {
     "duration": 0.017107,
     "end_time": "2024-10-16T06:46:44.119346",
     "exception": false,
     "start_time": "2024-10-16T06:46:44.102239",
     "status": "completed"
    },
    "tags": []
   },
   "outputs": [],
   "source": [
    "class SqueezeExcitation(nn.Module):\n",
    "    def __init__(self, in_channels, reduction_ratio=16):\n",
    "        super(SqueezeExcitation, self).__init__()\n",
    "        # 최소 크기 보장\n",
    "        reduced_channels = max(1, in_channels // reduction_ratio)\n",
    "        self.fc1 = nn.Linear(in_channels, reduced_channels)\n",
    "        self.fc2 = nn.Linear(reduced_channels, in_channels)\n",
    "\n",
    "    def forward(self, x):\n",
    "        batch, channels, _, _ = x.size()\n",
    "        y = F.adaptive_avg_pool2d(x, 1).view(batch, channels)\n",
    "        \n",
    "        # Swish 사용: x * sigmoid(x)\n",
    "        y = self.fc1(y)\n",
    "        y = y * torch.sigmoid(y)  # Swish 적용\n",
    "        y = self.fc2(y)\n",
    "        y = y * torch.sigmoid(y)  # Swish 적용\n",
    "        y = y.view(batch, channels, 1, 1)\n",
    "        return x * y"
   ]
  },
  {
   "cell_type": "markdown",
   "id": "8a48709e",
   "metadata": {
    "papermill": {
     "duration": 0.006801,
     "end_time": "2024-10-16T06:46:44.133304",
     "exception": false,
     "start_time": "2024-10-16T06:46:44.126503",
     "status": "completed"
    },
    "tags": []
   },
   "source": [
    "# 6: NOLA 모델 정의"
   ]
  },
  {
   "cell_type": "code",
   "execution_count": 7,
   "id": "b475b2ac",
   "metadata": {
    "execution": {
     "iopub.execute_input": "2024-10-16T06:46:44.148794Z",
     "iopub.status.busy": "2024-10-16T06:46:44.148495Z",
     "iopub.status.idle": "2024-10-16T06:46:45.125806Z",
     "shell.execute_reply": "2024-10-16T06:46:45.124842Z"
    },
    "papermill": {
     "duration": 0.988483,
     "end_time": "2024-10-16T06:46:45.128916",
     "exception": false,
     "start_time": "2024-10-16T06:46:44.140433",
     "status": "completed"
    },
    "tags": []
   },
   "outputs": [
    {
     "name": "stdout",
     "output_type": "stream",
     "text": [
      "----------------------------------------------------------------\n",
      "        Layer (type)               Output Shape         Param #\n",
      "================================================================\n",
      "            Conv2d-1         [-1, 16, 112, 112]             432\n",
      "       BatchNorm2d-2         [-1, 16, 112, 112]              32\n",
      "            Conv2d-3         [-1, 48, 112, 112]             768\n",
      "       BatchNorm2d-4         [-1, 48, 112, 112]              96\n",
      "            Conv2d-5           [-1, 48, 56, 56]             432\n",
      "       BatchNorm2d-6           [-1, 48, 56, 56]              96\n",
      "            Linear-7                    [-1, 3]             147\n",
      "            Linear-8                   [-1, 48]             192\n",
      " SqueezeExcitation-9           [-1, 48, 56, 56]               0\n",
      "           Conv2d-10           [-1, 24, 56, 56]           1,152\n",
      "      BatchNorm2d-11           [-1, 24, 56, 56]              48\n",
      " InvertedResidual-12           [-1, 24, 56, 56]               0\n",
      "           Conv2d-13           [-1, 72, 56, 56]           1,728\n",
      "      BatchNorm2d-14           [-1, 72, 56, 56]             144\n",
      "           Conv2d-15           [-1, 72, 28, 28]             648\n",
      "      BatchNorm2d-16           [-1, 72, 28, 28]             144\n",
      "           Linear-17                    [-1, 4]             292\n",
      "           Linear-18                   [-1, 72]             360\n",
      "SqueezeExcitation-19           [-1, 72, 28, 28]               0\n",
      "           Conv2d-20           [-1, 32, 28, 28]           2,304\n",
      "      BatchNorm2d-21           [-1, 32, 28, 28]              64\n",
      " InvertedResidual-22           [-1, 32, 28, 28]               0\n",
      "           Conv2d-23          [-1, 128, 28, 28]           4,096\n",
      "      BatchNorm2d-24          [-1, 128, 28, 28]             256\n",
      "           Conv2d-25          [-1, 128, 14, 14]           1,152\n",
      "      BatchNorm2d-26          [-1, 128, 14, 14]             256\n",
      "           Linear-27                    [-1, 8]           1,032\n",
      "           Linear-28                  [-1, 128]           1,152\n",
      "SqueezeExcitation-29          [-1, 128, 14, 14]               0\n",
      "           Conv2d-30           [-1, 64, 14, 14]           8,192\n",
      "      BatchNorm2d-31           [-1, 64, 14, 14]             128\n",
      " InvertedResidual-32           [-1, 64, 14, 14]               0\n",
      "           Conv2d-33          [-1, 256, 14, 14]          16,384\n",
      "      BatchNorm2d-34          [-1, 256, 14, 14]             512\n",
      "           Conv2d-35            [-1, 256, 7, 7]           2,304\n",
      "      BatchNorm2d-36            [-1, 256, 7, 7]             512\n",
      "           Linear-37                   [-1, 16]           4,112\n",
      "           Linear-38                  [-1, 256]           4,352\n",
      "SqueezeExcitation-39            [-1, 256, 7, 7]               0\n",
      "           Conv2d-40            [-1, 128, 7, 7]          32,768\n",
      "      BatchNorm2d-41            [-1, 128, 7, 7]             256\n",
      " InvertedResidual-42            [-1, 128, 7, 7]               0\n",
      "AdaptiveAvgPool2d-43            [-1, 128, 1, 1]               0\n",
      "           Linear-44                  [-1, 100]          12,900\n",
      "================================================================\n",
      "Total params: 99,443\n",
      "Trainable params: 99,443\n",
      "Non-trainable params: 0\n",
      "----------------------------------------------------------------\n",
      "Input size (MB): 0.57\n",
      "Forward/backward pass size (MB): 26.32\n",
      "Params size (MB): 0.38\n",
      "Estimated Total Size (MB): 27.28\n",
      "----------------------------------------------------------------\n"
     ]
    }
   ],
   "source": [
    "# NOLA_MobileNetV3 모델 정의\n",
    "class NOLA_MobileNetV3(nn.Module):\n",
    "    def __init__(self, num_classes=100):\n",
    "        super(NOLA_MobileNetV3, self).__init__()\n",
    "\n",
    "        # 기본 Conv 레이어\n",
    "        self.conv1 = nn.Conv2d(3, 16, kernel_size=3, stride=2, padding=1, bias=False)\n",
    "        self.bn1 = nn.BatchNorm2d(16)\n",
    "\n",
    "        # Inverted Residual Blocks와 SE Block 사용\n",
    "        self.block1 = InvertedResidual(16, 24, stride=2, expand_ratio=3)\n",
    "        self.block2 = InvertedResidual(24, 32, stride=2, expand_ratio=3)\n",
    "        self.block3 = InvertedResidual(32, 64, stride=2, expand_ratio=4)\n",
    "        self.block4 = InvertedResidual(64, 128, stride=2, expand_ratio=4)\n",
    "\n",
    "        # GAP 적용\n",
    "        self.gap = nn.AdaptiveAvgPool2d((1, 1))\n",
    "        self.fc = nn.Linear(128, num_classes)\n",
    "\n",
    "    def forward(self, x):\n",
    "        x = F.relu(self.bn1(self.conv1(x)), inplace=True)\n",
    "        x = self.block1(x)\n",
    "        x = self.block2(x)\n",
    "        x = self.block3(x)\n",
    "        x = self.block4(x)\n",
    "        x = self.gap(x)\n",
    "        x = x.view(x.size(0), -1)\n",
    "        x = self.fc(x)\n",
    "        return x\n",
    "    \n",
    "model = NOLA_MobileNetV3().cuda()\n",
    "summary(model, (3, 224, 224))  # 모델 구조 요약"
   ]
  },
  {
   "cell_type": "markdown",
   "id": "01ed7e52",
   "metadata": {
    "papermill": {
     "duration": 0.006898,
     "end_time": "2024-10-16T06:46:45.143514",
     "exception": false,
     "start_time": "2024-10-16T06:46:45.136616",
     "status": "completed"
    },
    "tags": []
   },
   "source": [
    "# NOLA LinearLayer\n"
   ]
  },
  {
   "cell_type": "code",
   "execution_count": 8,
   "id": "eca831bd",
   "metadata": {
    "execution": {
     "iopub.execute_input": "2024-10-16T06:46:45.159146Z",
     "iopub.status.busy": "2024-10-16T06:46:45.158794Z",
     "iopub.status.idle": "2024-10-16T06:46:45.174236Z",
     "shell.execute_reply": "2024-10-16T06:46:45.173321Z"
    },
    "papermill": {
     "duration": 0.025722,
     "end_time": "2024-10-16T06:46:45.176268",
     "exception": false,
     "start_time": "2024-10-16T06:46:45.150546",
     "status": "completed"
    },
    "tags": []
   },
   "outputs": [],
   "source": [
    "class GenerateParams(torch.autograd.Function):\n",
    "    # Generate parameters on the fly with random basis\n",
    "    \n",
    "    @staticmethod    \n",
    "    def forward(ctx, coefficients, out_dim, in_dim, seed): \n",
    "        num_basis = coefficients.shape[0]\n",
    "        Out = torch.zeros(out_dim, in_dim).to(coefficients.device)\n",
    "        rand_seed = torch.randint(int(1e10), (1,))\n",
    "        torch.manual_seed(seed)\n",
    "        \n",
    "        W = torch.zeros(num_basis, out_dim, in_dim, \n",
    "                        device=coefficients.device, dtype=coefficients.dtype)\n",
    "        nn.init.uniform_(W, a=-1.0, b=1.0)\n",
    "        Out = torch.einsum('b,boi->oi', coefficients, W)\n",
    "        \n",
    "        params = torch.autograd.Variable(torch.tensor([out_dim, in_dim, seed]))\n",
    "        ctx.save_for_backward(coefficients, params)\n",
    "        torch.manual_seed(rand_seed)\n",
    "        return Out \n",
    "    \n",
    "    @staticmethod\n",
    "    def backward(ctx, grad_output):\n",
    "        coefficients, params = ctx.saved_tensors\n",
    "        num_basis = coefficients.shape[0]\n",
    "\n",
    "        out_dim, in_dim, seed = params\n",
    "        rand_seed = torch.randint(int(1e10), (1,))\n",
    "        torch.manual_seed(seed)\n",
    "        grad_coefficients = torch.empty(0).to(grad_output.device)\n",
    "\n",
    "        W = torch.zeros(num_basis, out_dim, in_dim, \n",
    "                        device=coefficients.device, dtype=coefficients.dtype)\n",
    "        nn.init.uniform_(W, a=-1.0, b=1.0) \n",
    "        W = W.permute(1, 2, 0).reshape(-1, num_basis)\n",
    "        grad_coefficients = torch.einsum('d,dl->l', grad_output.flatten(), W)\n",
    "\n",
    "        torch.manual_seed(rand_seed)    \n",
    "        return grad_coefficients, None, None, None\n",
    "\n",
    "\n",
    "# NOLA Linear Layer 정의 수정\n",
    "class NOLALinear(nn.Linear): \n",
    "    def __init__(self, in_features: int, out_features: int, coefficients: torch.Tensor, seed: int, num_basis=128, **kwargs):\n",
    "        super(NOLALinear, self).__init__(in_features, out_features, **kwargs)\n",
    "        self.num_basis = num_basis \n",
    "        self.generate_params = GenerateParams.apply\n",
    "        self.coefficients = nn.Parameter(coefficients, requires_grad=True)\n",
    "        self.seed = nn.Parameter(torch.tensor(seed), requires_grad=False)\n",
    "        self.weight.requires_grad = False\n",
    "        \n",
    "    def extra_repr(self) -> str:\n",
    "        return 'in_features={}, out_features={}, num_basis={}'.format(\n",
    "            self.in_features, self.out_features, self.num_basis)  \n",
    "\n",
    "    def forward(self, x: torch.Tensor):\n",
    "        W = self.generate_params(self.coefficients,\n",
    "                          self.out_features,\n",
    "                          self.in_features,\n",
    "                          self.seed) + self.weight\n",
    "        return x @ W.t()\n"
   ]
  },
  {
   "cell_type": "markdown",
   "id": "f19c91b7",
   "metadata": {
    "papermill": {
     "duration": 0.006942,
     "end_time": "2024-10-16T06:46:45.190359",
     "exception": false,
     "start_time": "2024-10-16T06:46:45.183417",
     "status": "completed"
    },
    "tags": []
   },
   "source": [
    "# 7: 데이터 전처리"
   ]
  },
  {
   "cell_type": "code",
   "execution_count": 9,
   "id": "5a1ce404",
   "metadata": {
    "execution": {
     "iopub.execute_input": "2024-10-16T06:46:45.205935Z",
     "iopub.status.busy": "2024-10-16T06:46:45.205623Z",
     "iopub.status.idle": "2024-10-16T06:46:45.212144Z",
     "shell.execute_reply": "2024-10-16T06:46:45.211266Z"
    },
    "papermill": {
     "duration": 0.016414,
     "end_time": "2024-10-16T06:46:45.214076",
     "exception": false,
     "start_time": "2024-10-16T06:46:45.197662",
     "status": "completed"
    },
    "tags": []
   },
   "outputs": [],
   "source": [
    "# 여러 Augmentation 기법 적용 (좌우반전, 회전, 크기 조절 등)\n",
    "transform = transforms.Compose([\n",
    "    transforms.ToPILImage(),  # 이 부분을 가장 마지막에 두어야 합니다.\n",
    "    transforms.RandomHorizontalFlip(),\n",
    "    transforms.RandomRotation(10),\n",
    "    transforms.Resize((224, 224)),\n",
    "    transforms.RandomCrop(224, padding=4),\n",
    "    transforms.ColorJitter(brightness=0.2, contrast=0.2, saturation=0.2, hue=0.1),\n",
    "    transforms.ToTensor(),  # 이미지를 텐서로 변환\n",
    "    transforms.Normalize(mean=[0.485, 0.456, 0.406], std=[0.229, 0.224, 0.225]),  # 이미지 정규화\n",
    "    transforms.RandomErasing()  # RandomErasing 추가\n",
    "])"
   ]
  },
  {
   "cell_type": "markdown",
   "id": "4e20d8c1",
   "metadata": {
    "papermill": {
     "duration": 0.006782,
     "end_time": "2024-10-16T06:46:45.227912",
     "exception": false,
     "start_time": "2024-10-16T06:46:45.221130",
     "status": "completed"
    },
    "tags": []
   },
   "source": [
    "# 8: 데이터 로딩"
   ]
  },
  {
   "cell_type": "code",
   "execution_count": 10,
   "id": "5e7f9846",
   "metadata": {
    "execution": {
     "iopub.execute_input": "2024-10-16T06:46:45.243679Z",
     "iopub.status.busy": "2024-10-16T06:46:45.243381Z",
     "iopub.status.idle": "2024-10-16T06:46:46.723736Z",
     "shell.execute_reply": "2024-10-16T06:46:46.722695Z"
    },
    "papermill": {
     "duration": 1.491108,
     "end_time": "2024-10-16T06:46:46.726267",
     "exception": false,
     "start_time": "2024-10-16T06:46:45.235159",
     "status": "completed"
    },
    "tags": []
   },
   "outputs": [],
   "source": [
    "# - 학습 및 검증 데이터 로드 (Kaggle에서 데이터 불러오기)\n",
    "train = np.load('/kaggle/input/2024-ai-challenge/trainset.npy')\n",
    "label = np.load('/kaggle/input/2024-ai-challenge/trainlabel.npy')\n",
    "\n",
    "# 학습 및 검증 데이터 분할\n",
    "X_train, X_val, y_train, y_val = train_test_split(train, label, test_size=0.2, random_state=42)\n",
    "train_dataset = CustomDataset(X_train, y_train, transform=transform)\n",
    "train_loader = DataLoader(train_dataset, batch_size=16, shuffle=True, num_workers=4)\n",
    "\n",
    "val_dataset = CustomDataset(X_val, y_val, transform=transform)\n",
    "val_loader = DataLoader(val_dataset, batch_size=16, shuffle=False, num_workers=4)\n",
    "\n",
    "#배치사이즈 튜닝해보기\n"
   ]
  },
  {
   "cell_type": "markdown",
   "id": "ddbec2e9",
   "metadata": {
    "papermill": {
     "duration": 0.006696,
     "end_time": "2024-10-16T06:46:46.740060",
     "exception": false,
     "start_time": "2024-10-16T06:46:46.733364",
     "status": "completed"
    },
    "tags": []
   },
   "source": [
    "# 10: 학습 준비"
   ]
  },
  {
   "cell_type": "code",
   "execution_count": 11,
   "id": "9c99c2e4",
   "metadata": {
    "execution": {
     "iopub.execute_input": "2024-10-16T06:46:46.754793Z",
     "iopub.status.busy": "2024-10-16T06:46:46.754481Z",
     "iopub.status.idle": "2024-10-16T06:46:46.763769Z",
     "shell.execute_reply": "2024-10-16T06:46:46.762893Z"
    },
    "papermill": {
     "duration": 0.019076,
     "end_time": "2024-10-16T06:46:46.765890",
     "exception": false,
     "start_time": "2024-10-16T06:46:46.746814",
     "status": "completed"
    },
    "tags": []
   },
   "outputs": [
    {
     "name": "stderr",
     "output_type": "stream",
     "text": [
      "/opt/conda/lib/python3.10/site-packages/torch/optim/lr_scheduler.py:60: UserWarning: The verbose parameter is deprecated. Please use get_last_lr() to access the learning rate.\n",
      "  warnings.warn(\n"
     ]
    }
   ],
   "source": [
    "num_epochs = 500  # 최대 Epoch 수 (200으로 설정, 조기 종료가 있으면 더 적을 수 있음)\n",
    "learning_rate = 0.01  # 초기 학습률 (0.01로 조정)\n",
    "weight_decay = 1e-4  # weight decay (L2 정규화)\n",
    "\n",
    "criterion = nn.CrossEntropyLoss()\n",
    "optimizer = torch.optim.Adam(model.parameters(), lr=learning_rate, weight_decay=weight_decay)\n",
    "scheduler = torch.optim.lr_scheduler.ReduceLROnPlateau(optimizer, mode='max', factor=0.5, patience=5, verbose=True)\n",
    "\n",
    "\n",
    "# Early Stopping 기준\n",
    "early_stopping_patience = 20\n",
    "best_val_accuracy = 0\n",
    "early_stopping_counter = 0\n"
   ]
  },
  {
   "cell_type": "markdown",
   "id": "83e30f57",
   "metadata": {
    "papermill": {
     "duration": 0.00654,
     "end_time": "2024-10-16T06:46:46.779368",
     "exception": false,
     "start_time": "2024-10-16T06:46:46.772828",
     "status": "completed"
    },
    "tags": []
   },
   "source": [
    "# 11: 학습 및 검증 루프"
   ]
  },
  {
   "cell_type": "code",
   "execution_count": 12,
   "id": "4a8b69e2",
   "metadata": {
    "execution": {
     "iopub.execute_input": "2024-10-16T06:46:46.794380Z",
     "iopub.status.busy": "2024-10-16T06:46:46.793843Z",
     "iopub.status.idle": "2024-10-16T11:20:31.743380Z",
     "shell.execute_reply": "2024-10-16T11:20:31.742234Z"
    },
    "papermill": {
     "duration": 16424.980393,
     "end_time": "2024-10-16T11:20:31.766612",
     "exception": false,
     "start_time": "2024-10-16T06:46:46.786219",
     "status": "completed"
    },
    "tags": []
   },
   "outputs": [
    {
     "name": "stdout",
     "output_type": "stream",
     "text": [
      "Epoch [1/500], Loss: 4.1927, Train Accuracy: 0.0515\n",
      "Validation Accuracy: 0.0624\n",
      "Current learning rate: [0.01]\n",
      "New best model saved at epoch 1 with val accuracy: 0.0624\n",
      "Epoch [2/500], Loss: 3.8719, Train Accuracy: 0.0952\n",
      "Validation Accuracy: 0.0893\n",
      "Current learning rate: [0.01]\n",
      "New best model saved at epoch 2 with val accuracy: 0.0893\n",
      "Epoch [3/500], Loss: 3.7445, Train Accuracy: 0.1185\n",
      "Validation Accuracy: 0.1182\n",
      "Current learning rate: [0.01]\n",
      "New best model saved at epoch 3 with val accuracy: 0.1182\n",
      "Epoch [4/500], Loss: 3.6675, Train Accuracy: 0.1310\n",
      "Validation Accuracy: 0.1418\n",
      "Current learning rate: [0.01]\n",
      "New best model saved at epoch 4 with val accuracy: 0.1418\n",
      "Epoch [5/500], Loss: 3.5988, Train Accuracy: 0.1420\n",
      "Validation Accuracy: 0.1447\n",
      "Current learning rate: [0.01]\n",
      "New best model saved at epoch 5 with val accuracy: 0.1447\n",
      "Epoch [6/500], Loss: 3.5448, Train Accuracy: 0.1521\n",
      "Validation Accuracy: 0.1447\n",
      "Current learning rate: [0.01]\n",
      "Epoch [7/500], Loss: 3.5095, Train Accuracy: 0.1576\n",
      "Validation Accuracy: 0.1570\n",
      "Current learning rate: [0.01]\n",
      "New best model saved at epoch 7 with val accuracy: 0.1570\n",
      "Epoch [8/500], Loss: 3.4883, Train Accuracy: 0.1622\n",
      "Validation Accuracy: 0.1445\n",
      "Current learning rate: [0.01]\n",
      "Epoch [9/500], Loss: 3.4706, Train Accuracy: 0.1640\n",
      "Validation Accuracy: 0.1654\n",
      "Current learning rate: [0.01]\n",
      "New best model saved at epoch 9 with val accuracy: 0.1654\n",
      "Epoch [10/500], Loss: 3.4671, Train Accuracy: 0.1653\n",
      "Validation Accuracy: 0.1486\n",
      "Current learning rate: [0.01]\n",
      "Epoch [11/500], Loss: 3.4502, Train Accuracy: 0.1697\n",
      "Validation Accuracy: 0.1411\n",
      "Current learning rate: [0.01]\n",
      "Epoch [12/500], Loss: 3.4395, Train Accuracy: 0.1691\n",
      "Validation Accuracy: 0.1611\n",
      "Current learning rate: [0.01]\n",
      "Epoch [13/500], Loss: 3.4269, Train Accuracy: 0.1706\n",
      "Validation Accuracy: 0.1390\n",
      "Current learning rate: [0.01]\n",
      "Epoch [14/500], Loss: 3.4177, Train Accuracy: 0.1714\n",
      "Validation Accuracy: 0.1607\n",
      "Current learning rate: [0.01]\n",
      "Epoch [15/500], Loss: 3.4135, Train Accuracy: 0.1749\n",
      "Validation Accuracy: 0.1636\n",
      "Current learning rate: [0.005]\n",
      "Epoch [16/500], Loss: 3.3101, Train Accuracy: 0.1947\n",
      "Validation Accuracy: 0.2070\n",
      "Current learning rate: [0.005]\n",
      "New best model saved at epoch 16 with val accuracy: 0.2070\n",
      "Epoch [17/500], Loss: 3.2991, Train Accuracy: 0.1946\n",
      "Validation Accuracy: 0.2105\n",
      "Current learning rate: [0.005]\n",
      "New best model saved at epoch 17 with val accuracy: 0.2105\n",
      "Epoch [18/500], Loss: 3.2934, Train Accuracy: 0.1941\n",
      "Validation Accuracy: 0.2015\n",
      "Current learning rate: [0.005]\n",
      "Epoch [19/500], Loss: 3.2907, Train Accuracy: 0.1978\n",
      "Validation Accuracy: 0.1894\n",
      "Current learning rate: [0.005]\n",
      "Epoch [20/500], Loss: 3.2900, Train Accuracy: 0.1984\n",
      "Validation Accuracy: 0.2028\n",
      "Current learning rate: [0.005]\n",
      "Epoch [21/500], Loss: 3.2814, Train Accuracy: 0.2010\n",
      "Validation Accuracy: 0.1899\n",
      "Current learning rate: [0.005]\n",
      "Epoch [22/500], Loss: 3.2800, Train Accuracy: 0.2003\n",
      "Validation Accuracy: 0.2072\n",
      "Current learning rate: [0.005]\n",
      "Epoch [23/500], Loss: 3.2868, Train Accuracy: 0.1971\n",
      "Validation Accuracy: 0.1960\n",
      "Current learning rate: [0.0025]\n",
      "Epoch [24/500], Loss: 3.2209, Train Accuracy: 0.2105\n",
      "Validation Accuracy: 0.2215\n",
      "Current learning rate: [0.0025]\n",
      "New best model saved at epoch 24 with val accuracy: 0.2215\n",
      "Epoch [25/500], Loss: 3.2131, Train Accuracy: 0.2125\n",
      "Validation Accuracy: 0.2172\n",
      "Current learning rate: [0.0025]\n",
      "Epoch [26/500], Loss: 3.2097, Train Accuracy: 0.2124\n",
      "Validation Accuracy: 0.2256\n",
      "Current learning rate: [0.0025]\n",
      "New best model saved at epoch 26 with val accuracy: 0.2256\n",
      "Epoch [27/500], Loss: 3.2105, Train Accuracy: 0.2107\n",
      "Validation Accuracy: 0.2238\n",
      "Current learning rate: [0.0025]\n",
      "Epoch [28/500], Loss: 3.2000, Train Accuracy: 0.2154\n",
      "Validation Accuracy: 0.2290\n",
      "Current learning rate: [0.0025]\n",
      "New best model saved at epoch 28 with val accuracy: 0.2290\n",
      "Epoch [29/500], Loss: 3.2007, Train Accuracy: 0.2169\n",
      "Validation Accuracy: 0.2163\n",
      "Current learning rate: [0.0025]\n",
      "Epoch [30/500], Loss: 3.2001, Train Accuracy: 0.2131\n",
      "Validation Accuracy: 0.2210\n",
      "Current learning rate: [0.0025]\n",
      "Epoch [31/500], Loss: 3.2082, Train Accuracy: 0.2127\n",
      "Validation Accuracy: 0.2273\n",
      "Current learning rate: [0.0025]\n",
      "Epoch [32/500], Loss: 3.2106, Train Accuracy: 0.2105\n",
      "Validation Accuracy: 0.2201\n",
      "Current learning rate: [0.0025]\n",
      "Epoch [33/500], Loss: 3.2019, Train Accuracy: 0.2141\n",
      "Validation Accuracy: 0.2217\n",
      "Current learning rate: [0.0025]\n",
      "Epoch [34/500], Loss: 3.2026, Train Accuracy: 0.2148\n",
      "Validation Accuracy: 0.2222\n",
      "Current learning rate: [0.00125]\n",
      "Epoch [35/500], Loss: 3.1700, Train Accuracy: 0.2208\n",
      "Validation Accuracy: 0.2347\n",
      "Current learning rate: [0.00125]\n",
      "New best model saved at epoch 35 with val accuracy: 0.2347\n",
      "Epoch [36/500], Loss: 3.1575, Train Accuracy: 0.2208\n",
      "Validation Accuracy: 0.2343\n",
      "Current learning rate: [0.00125]\n",
      "Epoch [37/500], Loss: 3.1661, Train Accuracy: 0.2222\n",
      "Validation Accuracy: 0.2324\n",
      "Current learning rate: [0.00125]\n",
      "Epoch [38/500], Loss: 3.1556, Train Accuracy: 0.2221\n",
      "Validation Accuracy: 0.2287\n",
      "Current learning rate: [0.00125]\n",
      "Epoch [39/500], Loss: 3.1564, Train Accuracy: 0.2264\n",
      "Validation Accuracy: 0.2407\n",
      "Current learning rate: [0.00125]\n",
      "New best model saved at epoch 39 with val accuracy: 0.2407\n",
      "Epoch [40/500], Loss: 3.1536, Train Accuracy: 0.2250\n",
      "Validation Accuracy: 0.2421\n",
      "Current learning rate: [0.00125]\n",
      "New best model saved at epoch 40 with val accuracy: 0.2421\n",
      "Epoch [41/500], Loss: 3.1602, Train Accuracy: 0.2229\n",
      "Validation Accuracy: 0.2356\n",
      "Current learning rate: [0.00125]\n",
      "Epoch [42/500], Loss: 3.1656, Train Accuracy: 0.2247\n",
      "Validation Accuracy: 0.2402\n",
      "Current learning rate: [0.00125]\n",
      "Epoch [43/500], Loss: 3.1556, Train Accuracy: 0.2243\n",
      "Validation Accuracy: 0.2386\n",
      "Current learning rate: [0.00125]\n",
      "Epoch [44/500], Loss: 3.1569, Train Accuracy: 0.2237\n",
      "Validation Accuracy: 0.2297\n",
      "Current learning rate: [0.00125]\n",
      "Epoch [45/500], Loss: 3.1563, Train Accuracy: 0.2240\n",
      "Validation Accuracy: 0.2335\n",
      "Current learning rate: [0.00125]\n",
      "Epoch [46/500], Loss: 3.1557, Train Accuracy: 0.2250\n",
      "Validation Accuracy: 0.2349\n",
      "Current learning rate: [0.000625]\n",
      "Epoch [47/500], Loss: 3.1284, Train Accuracy: 0.2289\n",
      "Validation Accuracy: 0.2495\n",
      "Current learning rate: [0.000625]\n",
      "New best model saved at epoch 47 with val accuracy: 0.2495\n",
      "Epoch [48/500], Loss: 3.1260, Train Accuracy: 0.2305\n",
      "Validation Accuracy: 0.2449\n",
      "Current learning rate: [0.000625]\n",
      "Epoch [49/500], Loss: 3.1276, Train Accuracy: 0.2288\n",
      "Validation Accuracy: 0.2338\n",
      "Current learning rate: [0.000625]\n",
      "Epoch [50/500], Loss: 3.1312, Train Accuracy: 0.2296\n",
      "Validation Accuracy: 0.2448\n",
      "Current learning rate: [0.000625]\n",
      "Epoch [51/500], Loss: 3.1233, Train Accuracy: 0.2319\n",
      "Validation Accuracy: 0.2452\n",
      "Current learning rate: [0.000625]\n",
      "Epoch [52/500], Loss: 3.1320, Train Accuracy: 0.2303\n",
      "Validation Accuracy: 0.2486\n",
      "Current learning rate: [0.000625]\n",
      "Epoch [53/500], Loss: 3.1252, Train Accuracy: 0.2293\n",
      "Validation Accuracy: 0.2419\n",
      "Current learning rate: [0.0003125]\n",
      "Epoch [54/500], Loss: 3.1180, Train Accuracy: 0.2309\n",
      "Validation Accuracy: 0.2504\n",
      "Current learning rate: [0.0003125]\n",
      "New best model saved at epoch 54 with val accuracy: 0.2504\n",
      "Epoch [55/500], Loss: 3.1122, Train Accuracy: 0.2342\n",
      "Validation Accuracy: 0.2464\n",
      "Current learning rate: [0.0003125]\n",
      "Epoch [56/500], Loss: 3.1107, Train Accuracy: 0.2333\n",
      "Validation Accuracy: 0.2460\n",
      "Current learning rate: [0.0003125]\n",
      "Epoch [57/500], Loss: 3.1112, Train Accuracy: 0.2330\n",
      "Validation Accuracy: 0.2485\n",
      "Current learning rate: [0.0003125]\n",
      "Epoch [58/500], Loss: 3.1091, Train Accuracy: 0.2346\n",
      "Validation Accuracy: 0.2516\n",
      "Current learning rate: [0.0003125]\n",
      "New best model saved at epoch 58 with val accuracy: 0.2516\n",
      "Epoch [59/500], Loss: 3.1129, Train Accuracy: 0.2320\n",
      "Validation Accuracy: 0.2509\n",
      "Current learning rate: [0.0003125]\n",
      "Epoch [60/500], Loss: 3.1217, Train Accuracy: 0.2304\n",
      "Validation Accuracy: 0.2496\n",
      "Current learning rate: [0.0003125]\n",
      "Epoch [61/500], Loss: 3.1083, Train Accuracy: 0.2315\n",
      "Validation Accuracy: 0.2483\n",
      "Current learning rate: [0.0003125]\n",
      "Epoch [62/500], Loss: 3.1090, Train Accuracy: 0.2349\n",
      "Validation Accuracy: 0.2502\n",
      "Current learning rate: [0.0003125]\n",
      "Epoch [63/500], Loss: 3.1123, Train Accuracy: 0.2332\n",
      "Validation Accuracy: 0.2521\n",
      "Current learning rate: [0.0003125]\n",
      "New best model saved at epoch 63 with val accuracy: 0.2521\n",
      "Epoch [64/500], Loss: 3.1103, Train Accuracy: 0.2351\n",
      "Validation Accuracy: 0.2531\n",
      "Current learning rate: [0.0003125]\n",
      "New best model saved at epoch 64 with val accuracy: 0.2531\n",
      "Epoch [65/500], Loss: 3.1080, Train Accuracy: 0.2313\n",
      "Validation Accuracy: 0.2483\n",
      "Current learning rate: [0.0003125]\n",
      "Epoch [66/500], Loss: 3.1058, Train Accuracy: 0.2334\n",
      "Validation Accuracy: 0.2462\n",
      "Current learning rate: [0.0003125]\n",
      "Epoch [67/500], Loss: 3.1067, Train Accuracy: 0.2314\n",
      "Validation Accuracy: 0.2501\n",
      "Current learning rate: [0.0003125]\n",
      "Epoch [68/500], Loss: 3.1083, Train Accuracy: 0.2338\n",
      "Validation Accuracy: 0.2490\n",
      "Current learning rate: [0.0003125]\n",
      "Epoch [69/500], Loss: 3.1075, Train Accuracy: 0.2314\n",
      "Validation Accuracy: 0.2523\n",
      "Current learning rate: [0.0003125]\n",
      "Epoch [70/500], Loss: 3.1026, Train Accuracy: 0.2337\n",
      "Validation Accuracy: 0.2523\n",
      "Current learning rate: [0.00015625]\n",
      "Epoch [71/500], Loss: 3.0973, Train Accuracy: 0.2339\n",
      "Validation Accuracy: 0.2498\n",
      "Current learning rate: [0.00015625]\n",
      "Epoch [72/500], Loss: 3.0979, Train Accuracy: 0.2353\n",
      "Validation Accuracy: 0.2502\n",
      "Current learning rate: [0.00015625]\n",
      "Epoch [73/500], Loss: 3.0948, Train Accuracy: 0.2337\n",
      "Validation Accuracy: 0.2535\n",
      "Current learning rate: [0.00015625]\n",
      "New best model saved at epoch 73 with val accuracy: 0.2535\n",
      "Epoch [74/500], Loss: 3.1016, Train Accuracy: 0.2342\n",
      "Validation Accuracy: 0.2519\n",
      "Current learning rate: [0.00015625]\n",
      "Epoch [75/500], Loss: 3.1007, Train Accuracy: 0.2356\n",
      "Validation Accuracy: 0.2553\n",
      "Current learning rate: [0.00015625]\n",
      "New best model saved at epoch 75 with val accuracy: 0.2553\n",
      "Epoch [76/500], Loss: 3.0904, Train Accuracy: 0.2346\n",
      "Validation Accuracy: 0.2502\n",
      "Current learning rate: [0.00015625]\n",
      "Epoch [77/500], Loss: 3.0958, Train Accuracy: 0.2360\n",
      "Validation Accuracy: 0.2492\n",
      "Current learning rate: [0.00015625]\n",
      "Epoch [78/500], Loss: 3.0997, Train Accuracy: 0.2354\n",
      "Validation Accuracy: 0.2588\n",
      "Current learning rate: [0.00015625]\n",
      "New best model saved at epoch 78 with val accuracy: 0.2588\n",
      "Epoch [79/500], Loss: 3.0893, Train Accuracy: 0.2370\n",
      "Validation Accuracy: 0.2480\n",
      "Current learning rate: [0.00015625]\n",
      "Epoch [80/500], Loss: 3.0915, Train Accuracy: 0.2397\n",
      "Validation Accuracy: 0.2504\n",
      "Current learning rate: [0.00015625]\n",
      "Epoch [81/500], Loss: 3.0922, Train Accuracy: 0.2367\n",
      "Validation Accuracy: 0.2551\n",
      "Current learning rate: [0.00015625]\n",
      "Epoch [82/500], Loss: 3.0883, Train Accuracy: 0.2401\n",
      "Validation Accuracy: 0.2507\n",
      "Current learning rate: [0.00015625]\n",
      "Epoch [83/500], Loss: 3.0984, Train Accuracy: 0.2366\n",
      "Validation Accuracy: 0.2528\n",
      "Current learning rate: [0.00015625]\n",
      "Epoch [84/500], Loss: 3.0917, Train Accuracy: 0.2380\n",
      "Validation Accuracy: 0.2512\n",
      "Current learning rate: [7.8125e-05]\n",
      "Epoch [85/500], Loss: 3.0872, Train Accuracy: 0.2367\n",
      "Validation Accuracy: 0.2573\n",
      "Current learning rate: [7.8125e-05]\n",
      "Epoch [86/500], Loss: 3.0861, Train Accuracy: 0.2374\n",
      "Validation Accuracy: 0.2575\n",
      "Current learning rate: [7.8125e-05]\n",
      "Epoch [87/500], Loss: 3.0964, Train Accuracy: 0.2394\n",
      "Validation Accuracy: 0.2526\n",
      "Current learning rate: [7.8125e-05]\n",
      "Epoch [88/500], Loss: 3.0869, Train Accuracy: 0.2366\n",
      "Validation Accuracy: 0.2517\n",
      "Current learning rate: [7.8125e-05]\n",
      "Epoch [89/500], Loss: 3.0889, Train Accuracy: 0.2369\n",
      "Validation Accuracy: 0.2521\n",
      "Current learning rate: [7.8125e-05]\n",
      "Epoch [90/500], Loss: 3.0931, Train Accuracy: 0.2344\n",
      "Validation Accuracy: 0.2525\n",
      "Current learning rate: [3.90625e-05]\n",
      "Epoch [91/500], Loss: 3.0822, Train Accuracy: 0.2372\n",
      "Validation Accuracy: 0.2530\n",
      "Current learning rate: [3.90625e-05]\n",
      "Epoch [92/500], Loss: 3.0901, Train Accuracy: 0.2357\n",
      "Validation Accuracy: 0.2568\n",
      "Current learning rate: [3.90625e-05]\n",
      "Epoch [93/500], Loss: 3.0942, Train Accuracy: 0.2363\n",
      "Validation Accuracy: 0.2558\n",
      "Current learning rate: [3.90625e-05]\n",
      "Epoch [94/500], Loss: 3.0854, Train Accuracy: 0.2393\n",
      "Validation Accuracy: 0.2523\n",
      "Current learning rate: [3.90625e-05]\n",
      "Epoch [95/500], Loss: 3.0841, Train Accuracy: 0.2377\n",
      "Validation Accuracy: 0.2558\n",
      "Current learning rate: [3.90625e-05]\n",
      "Epoch [96/500], Loss: 3.0872, Train Accuracy: 0.2371\n",
      "Validation Accuracy: 0.2511\n",
      "Current learning rate: [1.953125e-05]\n",
      "Epoch [97/500], Loss: 3.0893, Train Accuracy: 0.2368\n",
      "Validation Accuracy: 0.2585\n",
      "Current learning rate: [1.953125e-05]\n",
      "Epoch [98/500], Loss: 3.0910, Train Accuracy: 0.2395\n",
      "Validation Accuracy: 0.2490\n",
      "Current learning rate: [1.953125e-05]\n",
      "Early stopping at epoch 98\n"
     ]
    }
   ],
   "source": [
    "\n",
    "# - 모델 학습 및 검증을 수행하는 메인 루프\n",
    "for epoch in range(num_epochs):\n",
    "    model.train()\n",
    "    total_loss = 0\n",
    "    correct = 0\n",
    "\n",
    "    # 학습 루프\n",
    "    for batch_features, batch_labels in train_loader:\n",
    "        batch_features, batch_labels = batch_features.cuda(), batch_labels.cuda()\n",
    "        optimizer.zero_grad()\n",
    "        outputs = model(batch_features)\n",
    "        loss = criterion(outputs, batch_labels)\n",
    "        loss.backward()\n",
    "        optimizer.step()\n",
    "\n",
    "        total_loss += loss.item()\n",
    "        _, predicted = torch.max(outputs, 1)\n",
    "        correct += (predicted == batch_labels).sum().item()\n",
    "\n",
    "    # 학습 결과 출력\n",
    "    average_loss = total_loss / len(train_loader)\n",
    "    train_accuracy = correct / len(train_dataset)\n",
    "    print(f'Epoch [{epoch + 1}/{num_epochs}], Loss: {average_loss:.4f}, Train Accuracy: {train_accuracy:.4f}')\n",
    "\n",
    "    # 검증 루프\n",
    "    model.eval()\n",
    "    val_correct = 0\n",
    "    with torch.no_grad():\n",
    "        for val_features, val_labels in val_loader:\n",
    "            val_features, val_labels = val_features.cuda(), val_labels.cuda()\n",
    "            val_outputs = model(val_features)\n",
    "            _, val_predicted = torch.max(val_outputs, 1)\n",
    "            val_correct += (val_predicted == val_labels).sum().item()\n",
    "\n",
    "    # 검증 정확도 출력\n",
    "    val_accuracy = val_correct / len(val_dataset)\n",
    "    print(f'Validation Accuracy: {val_accuracy:.4f}')\n",
    "\n",
    "    # 스케줄러를 통해 학습률 조정\n",
    "    scheduler.step(val_accuracy)\n",
    "    print(\"Current learning rate:\", scheduler.get_last_lr())\n",
    "    \n",
    "    # Early Stopping 체크\n",
    "    if val_accuracy > best_val_accuracy:\n",
    "        best_val_accuracy = val_accuracy\n",
    "        early_stopping_counter = 0\n",
    "        # 모델 저장\n",
    "        torch.save(model.state_dict(), 'best_model.pth')\n",
    "        print(f\"New best model saved at epoch {epoch + 1} with val accuracy: {val_accuracy:.4f}\")\n",
    "    else:\n",
    "        early_stopping_counter += 1\n",
    "        if early_stopping_counter >= early_stopping_patience:\n",
    "            print(f\"Early stopping at epoch {epoch + 1}\")\n",
    "            break\n"
   ]
  },
  {
   "cell_type": "markdown",
   "id": "ef12a166",
   "metadata": {
    "papermill": {
     "duration": 0.021357,
     "end_time": "2024-10-16T11:20:31.809634",
     "exception": false,
     "start_time": "2024-10-16T11:20:31.788277",
     "status": "completed"
    },
    "tags": []
   },
   "source": [
    "# 12: 테스트 데이터 예측 수행"
   ]
  },
  {
   "cell_type": "code",
   "execution_count": 13,
   "id": "39995752",
   "metadata": {
    "execution": {
     "iopub.execute_input": "2024-10-16T11:20:31.855428Z",
     "iopub.status.busy": "2024-10-16T11:20:31.855062Z",
     "iopub.status.idle": "2024-10-16T11:21:44.119621Z",
     "shell.execute_reply": "2024-10-16T11:21:44.118596Z"
    },
    "papermill": {
     "duration": 72.314959,
     "end_time": "2024-10-16T11:21:44.146153",
     "exception": false,
     "start_time": "2024-10-16T11:20:31.831194",
     "status": "completed"
    },
    "tags": []
   },
   "outputs": [
    {
     "name": "stderr",
     "output_type": "stream",
     "text": [
      "/tmp/ipykernel_23/145435278.py:2: FutureWarning: You are using `torch.load` with `weights_only=False` (the current default value), which uses the default pickle module implicitly. It is possible to construct malicious pickle data which will execute arbitrary code during unpickling (See https://github.com/pytorch/pytorch/blob/main/SECURITY.md#untrusted-models for more details). In a future release, the default value for `weights_only` will be flipped to `True`. This limits the functions that could be executed during unpickling. Arbitrary objects will no longer be allowed to be loaded via this mode unless they are explicitly allowlisted by the user via `torch.serialization.add_safe_globals`. We recommend you start setting `weights_only=True` for any use case where you don't have full control of the loaded file. Please open an issue on GitHub for any issues related to this experimental feature.\n",
      "  model.load_state_dict(torch.load('best_model.pth'))  # 가장 성능이 좋은 모델 로드\n"
     ]
    },
    {
     "name": "stdout",
     "output_type": "stream",
     "text": [
      "Submission file has been saved as 'submission.csv'\n"
     ]
    }
   ],
   "source": [
    "\n",
    "# - 가장 성능이 좋은 모델을 로드하고 테스트 데이터에 대한 예측을 수행\n",
    "model.load_state_dict(torch.load('best_model.pth'))  # 가장 성능이 좋은 모델 로드\n",
    "model.eval()\n",
    "predictions = []\n",
    "\n",
    "with torch.no_grad():\n",
    "    test = np.load('/kaggle/input/2024-ai-challenge/testset.npy')  # 테스트 데이터 불러오기\n",
    "    test_dataset = CustomDataset(test, np.zeros((test.shape[0], 100)), transform=transform)\n",
    "    test_loader = DataLoader(test_dataset, batch_size=32, shuffle=False)\n",
    "    \n",
    "    for test_features, _ in test_loader:\n",
    "        test_features = test_features.cuda()\n",
    "        outputs = model(test_features)\n",
    "        predictions.append(outputs.cpu().numpy())\n",
    "\n",
    "# 예측 결과 합치기\n",
    "predictions = np.concatenate(predictions, axis=0)\n",
    "\n",
    "# 예측된 클래스의 인덱스를 얻음\n",
    "predicted_classes = np.argmax(predictions, axis=1)\n",
    "\n",
    "# 결과를 DataFrame으로 변환\n",
    "submission_df = pd.DataFrame({\n",
    "    'id_idx': np.arange(len(predicted_classes)),\n",
    "    'label': predicted_classes\n",
    "})\n",
    "\n",
    "# CSV 파일로 저장\n",
    "submission_filename = 'submission.csv'\n",
    "submission_df.to_csv(submission_filename, index=False)\n",
    "\n",
    "print(f\"Submission file has been saved as '{submission_filename}'\")\n"
   ]
  }
 ],
 "metadata": {
  "kaggle": {
   "accelerator": "nvidiaTeslaT4",
   "dataSources": [
    {
     "databundleVersionId": 9473141,
     "sourceId": 84531,
     "sourceType": "competition"
    }
   ],
   "dockerImageVersionId": 30787,
   "isGpuEnabled": true,
   "isInternetEnabled": true,
   "language": "python",
   "sourceType": "notebook"
  },
  "kernelspec": {
   "display_name": "Python 3",
   "language": "python",
   "name": "python3"
  },
  "language_info": {
   "codemirror_mode": {
    "name": "ipython",
    "version": 3
   },
   "file_extension": ".py",
   "mimetype": "text/x-python",
   "name": "python",
   "nbconvert_exporter": "python",
   "pygments_lexer": "ipython3",
   "version": "3.10.14"
  },
  "papermill": {
   "default_parameters": {},
   "duration": 16522.926806,
   "end_time": "2024-10-16T11:21:45.790559",
   "environment_variables": {},
   "exception": null,
   "input_path": "__notebook__.ipynb",
   "output_path": "__notebook__.ipynb",
   "parameters": {},
   "start_time": "2024-10-16T06:46:22.863753",
   "version": "2.6.0"
  }
 },
 "nbformat": 4,
 "nbformat_minor": 5
}
