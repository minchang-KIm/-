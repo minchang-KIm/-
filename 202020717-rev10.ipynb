{
 "cells": [
  {
   "cell_type": "markdown",
   "id": "30caaa80",
   "metadata": {
    "papermill": {
     "duration": 0.007145,
     "end_time": "2024-10-15T15:06:41.933093",
     "exception": false,
     "start_time": "2024-10-15T15:06:41.925948",
     "status": "completed"
    },
    "tags": []
   },
   "source": [
    "# 1: 라이브러리 임포트"
   ]
  },
  {
   "cell_type": "code",
   "execution_count": 1,
   "id": "2feddb45",
   "metadata": {
    "execution": {
     "iopub.execute_input": "2024-10-15T15:06:41.947711Z",
     "iopub.status.busy": "2024-10-15T15:06:41.947299Z",
     "iopub.status.idle": "2024-10-15T15:07:02.689956Z",
     "shell.execute_reply": "2024-10-15T15:07:02.688931Z"
    },
    "papermill": {
     "duration": 20.753138,
     "end_time": "2024-10-15T15:07:02.692764",
     "exception": false,
     "start_time": "2024-10-15T15:06:41.939626",
     "status": "completed"
    },
    "tags": []
   },
   "outputs": [
    {
     "name": "stdout",
     "output_type": "stream",
     "text": [
      "Collecting torchsummary\r\n",
      "  Downloading torchsummary-1.5.1-py3-none-any.whl.metadata (296 bytes)\r\n",
      "Downloading torchsummary-1.5.1-py3-none-any.whl (2.8 kB)\r\n",
      "Installing collected packages: torchsummary\r\n",
      "Successfully installed torchsummary-1.5.1\r\n"
     ]
    }
   ],
   "source": [
    "import torch\n",
    "import torch.nn as nn\n",
    "import torch.nn.functional as F\n",
    "import numpy as np\n",
    "import pandas as pd\n",
    "from sklearn.model_selection import train_test_split\n",
    "from torch.utils.data import DataLoader, Dataset\n",
    "import torchvision.transforms as transforms\n",
    "!pip install torchsummary\n",
    "from torchsummary import summary\n",
    "from sklearn.model_selection import ParameterGrid"
   ]
  },
  {
   "cell_type": "markdown",
   "id": "2b2eeeda",
   "metadata": {
    "papermill": {
     "duration": 0.006846,
     "end_time": "2024-10-15T15:07:02.706747",
     "exception": false,
     "start_time": "2024-10-15T15:07:02.699901",
     "status": "completed"
    },
    "tags": []
   },
   "source": [
    "# 2: 커스텀 Dataset 정의"
   ]
  },
  {
   "cell_type": "code",
   "execution_count": 2,
   "id": "cf855c6b",
   "metadata": {
    "execution": {
     "iopub.execute_input": "2024-10-15T15:07:02.723125Z",
     "iopub.status.busy": "2024-10-15T15:07:02.722481Z",
     "iopub.status.idle": "2024-10-15T15:07:02.729492Z",
     "shell.execute_reply": "2024-10-15T15:07:02.728672Z"
    },
    "papermill": {
     "duration": 0.016826,
     "end_time": "2024-10-15T15:07:02.731393",
     "exception": false,
     "start_time": "2024-10-15T15:07:02.714567",
     "status": "completed"
    },
    "tags": []
   },
   "outputs": [],
   "source": [
    "\n",
    "# - 이미지와 레이블을 전달받아 학습 및 검증을 위한 데이터를 제공\n",
    "class CustomDataset(Dataset):\n",
    "    def __init__(self, images, labels, transform=None):\n",
    "        self.images = images\n",
    "        self.labels = labels\n",
    "        self.transform = transform\n",
    "\n",
    "    def __len__(self):\n",
    "        return len(self.images)\n",
    "\n",
    "    def __getitem__(self, idx):\n",
    "        image = self.images[idx]\n",
    "        label = self.labels[idx]\n",
    "\n",
    "        if self.transform:\n",
    "            image = self.transform(image)\n",
    "\n",
    "        return image, label\n"
   ]
  },
  {
   "cell_type": "markdown",
   "id": "6c82e131",
   "metadata": {
    "papermill": {
     "duration": 0.006639,
     "end_time": "2024-10-15T15:07:02.744825",
     "exception": false,
     "start_time": "2024-10-15T15:07:02.738186",
     "status": "completed"
    },
    "tags": []
   },
   "source": [
    "# 3: Squeeze-and-Excitation 모듈 정의"
   ]
  },
  {
   "cell_type": "code",
   "execution_count": 3,
   "id": "9f4f19a1",
   "metadata": {
    "execution": {
     "iopub.execute_input": "2024-10-15T15:07:02.759404Z",
     "iopub.status.busy": "2024-10-15T15:07:02.758909Z",
     "iopub.status.idle": "2024-10-15T15:07:02.765589Z",
     "shell.execute_reply": "2024-10-15T15:07:02.764631Z"
    },
    "papermill": {
     "duration": 0.016,
     "end_time": "2024-10-15T15:07:02.767483",
     "exception": false,
     "start_time": "2024-10-15T15:07:02.751483",
     "status": "completed"
    },
    "tags": []
   },
   "outputs": [],
   "source": [
    "# SE Block 정의\n",
    "class SqueezeExcitation(nn.Module):\n",
    "    def __init__(self, in_channels, reduction=4):\n",
    "        super(SqueezeExcitation, self).__init__()\n",
    "        self.fc1 = nn.Conv2d(in_channels, in_channels // reduction, kernel_size=1)\n",
    "        self.fc2 = nn.Conv2d(in_channels // reduction, in_channels, kernel_size=1)\n",
    "\n",
    "    def forward(self, x):\n",
    "        out = F.adaptive_avg_pool2d(x, 1)\n",
    "        out = F.relu(self.fc1(out))\n",
    "        out = torch.sigmoid(self.fc2(out))\n",
    "        return x * out"
   ]
  },
  {
   "cell_type": "markdown",
   "id": "d5aaa336",
   "metadata": {
    "papermill": {
     "duration": 0.006506,
     "end_time": "2024-10-15T15:07:02.780688",
     "exception": false,
     "start_time": "2024-10-15T15:07:02.774182",
     "status": "completed"
    },
    "tags": []
   },
   "source": [
    "# 4: Conv-BN-ReLU 모듈 정의"
   ]
  },
  {
   "cell_type": "code",
   "execution_count": 4,
   "id": "315a6b19",
   "metadata": {
    "execution": {
     "iopub.execute_input": "2024-10-15T15:07:02.795377Z",
     "iopub.status.busy": "2024-10-15T15:07:02.795074Z",
     "iopub.status.idle": "2024-10-15T15:07:02.801095Z",
     "shell.execute_reply": "2024-10-15T15:07:02.800293Z"
    },
    "papermill": {
     "duration": 0.015406,
     "end_time": "2024-10-15T15:07:02.802983",
     "exception": false,
     "start_time": "2024-10-15T15:07:02.787577",
     "status": "completed"
    },
    "tags": []
   },
   "outputs": [],
   "source": [
    "\n",
    "# - 일반적인 Convolution-BatchNorm-활성화 함수 블록\n",
    "class ConvBNReLU(nn.Module):\n",
    "    def __init__(self, in_channels, out_channels, stride):\n",
    "        super(ConvBNReLU, self).__init__()\n",
    "        self.conv = nn.Conv2d(in_channels, out_channels, kernel_size=3, stride=stride, padding=1, bias=False)\n",
    "        self.bn = nn.BatchNorm2d(out_channels)\n",
    "        self.relu = nn.ReLU(inplace=True)\n",
    "\n",
    "    def forward(self, x):\n",
    "        return self.relu(self.bn(self.conv(x)))\n"
   ]
  },
  {
   "cell_type": "markdown",
   "id": "d398b953",
   "metadata": {
    "papermill": {
     "duration": 0.006458,
     "end_time": "2024-10-15T15:07:02.816040",
     "exception": false,
     "start_time": "2024-10-15T15:07:02.809582",
     "status": "completed"
    },
    "tags": []
   },
   "source": [
    "# 5: Inverted Residual Block 정의"
   ]
  },
  {
   "cell_type": "code",
   "execution_count": 5,
   "id": "695e6ddf",
   "metadata": {
    "execution": {
     "iopub.execute_input": "2024-10-15T15:07:02.830496Z",
     "iopub.status.busy": "2024-10-15T15:07:02.830197Z",
     "iopub.status.idle": "2024-10-15T15:07:02.839697Z",
     "shell.execute_reply": "2024-10-15T15:07:02.838968Z"
    },
    "papermill": {
     "duration": 0.018756,
     "end_time": "2024-10-15T15:07:02.841545",
     "exception": false,
     "start_time": "2024-10-15T15:07:02.822789",
     "status": "completed"
    },
    "tags": []
   },
   "outputs": [],
   "source": [
    "# Inverted Residual Block 정의\n",
    "class InvertedResidual(nn.Module):\n",
    "    def __init__(self, in_channels, out_channels, stride, expand_ratio=4):\n",
    "        super(InvertedResidual, self).__init__()\n",
    "        self.stride = stride\n",
    "        hidden_dim = in_channels * expand_ratio\n",
    "        \n",
    "        # stride가 1이고 in_channels와 out_channels가 같으면 skip connection을 사용\n",
    "        self.use_res_connect = stride == 1 and in_channels == out_channels\n",
    "\n",
    "        # 1x1 Conv -> Expansion\n",
    "        self.conv1 = nn.Conv2d(in_channels, hidden_dim, kernel_size=1, bias=False)\n",
    "        self.bn1 = nn.BatchNorm2d(hidden_dim)\n",
    "\n",
    "        # Depthwise 3x3 Conv\n",
    "        self.conv2 = nn.Conv2d(hidden_dim, hidden_dim, kernel_size=3, stride=stride, padding=1, groups=hidden_dim, bias=False)\n",
    "        self.bn2 = nn.BatchNorm2d(hidden_dim)\n",
    "\n",
    "        # SE Block 적용\n",
    "        self.se = SqueezeExcitation(hidden_dim)\n",
    "\n",
    "        # 1x1 Conv -> Projection\n",
    "        self.conv3 = nn.Conv2d(hidden_dim, out_channels, kernel_size=1, bias=False)\n",
    "        self.bn3 = nn.BatchNorm2d(out_channels)\n",
    "\n",
    "    def forward(self, x):\n",
    "        # 확장 단계\n",
    "        out = F.relu(self.bn1(self.conv1(x)), inplace=True)\n",
    "\n",
    "        # Depthwise Conv + SE Block\n",
    "        out = F.relu(self.bn2(self.conv2(out)), inplace=True)\n",
    "        out = self.se(out)  # Squeeze-and-Excitation 적용\n",
    "\n",
    "        # 축소 단계\n",
    "        out = self.bn3(self.conv3(out))\n",
    "\n",
    "        # Skip connection 적용\n",
    "        if self.use_res_connect:\n",
    "            return x + out  # 입력과 출력을 더함 (Residual 연결)\n",
    "        else:\n",
    "            return out  # skip connection이 없는 경우"
   ]
  },
  {
   "cell_type": "markdown",
   "id": "6807e1da",
   "metadata": {
    "papermill": {
     "duration": 0.006473,
     "end_time": "2024-10-15T15:07:02.854597",
     "exception": false,
     "start_time": "2024-10-15T15:07:02.848124",
     "status": "completed"
    },
    "tags": []
   },
   "source": [
    "# Squeeze-and-Excitation block"
   ]
  },
  {
   "cell_type": "code",
   "execution_count": 6,
   "id": "4a1ba152",
   "metadata": {
    "execution": {
     "iopub.execute_input": "2024-10-15T15:07:02.869105Z",
     "iopub.status.busy": "2024-10-15T15:07:02.868828Z",
     "iopub.status.idle": "2024-10-15T15:07:02.875141Z",
     "shell.execute_reply": "2024-10-15T15:07:02.874362Z"
    },
    "papermill": {
     "duration": 0.015689,
     "end_time": "2024-10-15T15:07:02.877020",
     "exception": false,
     "start_time": "2024-10-15T15:07:02.861331",
     "status": "completed"
    },
    "tags": []
   },
   "outputs": [],
   "source": [
    "class SqueezeExcitation(nn.Module):\n",
    "    def __init__(self, in_channels, reduction_ratio=16):\n",
    "        super(SqueezeExcitation, self).__init__()\n",
    "        # 최소 크기 보장\n",
    "        reduced_channels = max(1, in_channels // reduction_ratio)\n",
    "        self.fc1 = nn.Linear(in_channels, reduced_channels)\n",
    "        self.fc2 = nn.Linear(reduced_channels, in_channels)\n",
    "\n",
    "    def forward(self, x):\n",
    "        batch, channels, _, _ = x.size()\n",
    "        y = F.adaptive_avg_pool2d(x, 1).view(batch, channels)\n",
    "        \n",
    "        # Swish 사용: x * sigmoid(x)\n",
    "        y = torch.sigmoid(self.fc1(y))\n",
    "        y = torch.sigmoid(self.fc2(y)).view(batch, channels, 1, 1)\n",
    "        return x * y\n"
   ]
  },
  {
   "cell_type": "markdown",
   "id": "7094fe7a",
   "metadata": {
    "papermill": {
     "duration": 0.006479,
     "end_time": "2024-10-15T15:07:02.890103",
     "exception": false,
     "start_time": "2024-10-15T15:07:02.883624",
     "status": "completed"
    },
    "tags": []
   },
   "source": [
    "# 6: NOLA 모델 정의"
   ]
  },
  {
   "cell_type": "code",
   "execution_count": 7,
   "id": "fd75ab63",
   "metadata": {
    "execution": {
     "iopub.execute_input": "2024-10-15T15:07:02.905083Z",
     "iopub.status.busy": "2024-10-15T15:07:02.904237Z",
     "iopub.status.idle": "2024-10-15T15:07:04.098842Z",
     "shell.execute_reply": "2024-10-15T15:07:04.097811Z"
    },
    "papermill": {
     "duration": 1.204915,
     "end_time": "2024-10-15T15:07:04.101655",
     "exception": false,
     "start_time": "2024-10-15T15:07:02.896740",
     "status": "completed"
    },
    "tags": []
   },
   "outputs": [
    {
     "name": "stdout",
     "output_type": "stream",
     "text": [
      "----------------------------------------------------------------\n",
      "        Layer (type)               Output Shape         Param #\n",
      "================================================================\n",
      "            Conv2d-1         [-1, 16, 112, 112]             432\n",
      "       BatchNorm2d-2         [-1, 16, 112, 112]              32\n",
      "            Conv2d-3         [-1, 48, 112, 112]             768\n",
      "       BatchNorm2d-4         [-1, 48, 112, 112]              96\n",
      "            Conv2d-5           [-1, 48, 56, 56]             432\n",
      "       BatchNorm2d-6           [-1, 48, 56, 56]              96\n",
      "            Linear-7                    [-1, 3]             147\n",
      "            Linear-8                   [-1, 48]             192\n",
      " SqueezeExcitation-9           [-1, 48, 56, 56]               0\n",
      "           Conv2d-10           [-1, 24, 56, 56]           1,152\n",
      "      BatchNorm2d-11           [-1, 24, 56, 56]              48\n",
      " InvertedResidual-12           [-1, 24, 56, 56]               0\n",
      "           Conv2d-13           [-1, 72, 56, 56]           1,728\n",
      "      BatchNorm2d-14           [-1, 72, 56, 56]             144\n",
      "           Conv2d-15           [-1, 72, 28, 28]             648\n",
      "      BatchNorm2d-16           [-1, 72, 28, 28]             144\n",
      "           Linear-17                    [-1, 4]             292\n",
      "           Linear-18                   [-1, 72]             360\n",
      "SqueezeExcitation-19           [-1, 72, 28, 28]               0\n",
      "           Conv2d-20           [-1, 32, 28, 28]           2,304\n",
      "      BatchNorm2d-21           [-1, 32, 28, 28]              64\n",
      " InvertedResidual-22           [-1, 32, 28, 28]               0\n",
      "           Conv2d-23          [-1, 128, 28, 28]           4,096\n",
      "      BatchNorm2d-24          [-1, 128, 28, 28]             256\n",
      "           Conv2d-25          [-1, 128, 14, 14]           1,152\n",
      "      BatchNorm2d-26          [-1, 128, 14, 14]             256\n",
      "           Linear-27                    [-1, 8]           1,032\n",
      "           Linear-28                  [-1, 128]           1,152\n",
      "SqueezeExcitation-29          [-1, 128, 14, 14]               0\n",
      "           Conv2d-30           [-1, 64, 14, 14]           8,192\n",
      "      BatchNorm2d-31           [-1, 64, 14, 14]             128\n",
      " InvertedResidual-32           [-1, 64, 14, 14]               0\n",
      "           Conv2d-33          [-1, 256, 14, 14]          16,384\n",
      "      BatchNorm2d-34          [-1, 256, 14, 14]             512\n",
      "           Conv2d-35            [-1, 256, 7, 7]           2,304\n",
      "      BatchNorm2d-36            [-1, 256, 7, 7]             512\n",
      "           Linear-37                   [-1, 16]           4,112\n",
      "           Linear-38                  [-1, 256]           4,352\n",
      "SqueezeExcitation-39            [-1, 256, 7, 7]               0\n",
      "           Conv2d-40            [-1, 128, 7, 7]          32,768\n",
      "      BatchNorm2d-41            [-1, 128, 7, 7]             256\n",
      " InvertedResidual-42            [-1, 128, 7, 7]               0\n",
      "AdaptiveAvgPool2d-43            [-1, 128, 1, 1]               0\n",
      "           Linear-44                  [-1, 100]          12,900\n",
      "================================================================\n",
      "Total params: 99,443\n",
      "Trainable params: 99,443\n",
      "Non-trainable params: 0\n",
      "----------------------------------------------------------------\n",
      "Input size (MB): 0.57\n",
      "Forward/backward pass size (MB): 26.32\n",
      "Params size (MB): 0.38\n",
      "Estimated Total Size (MB): 27.28\n",
      "----------------------------------------------------------------\n"
     ]
    }
   ],
   "source": [
    "# NOLA_MobileNetV3 모델 정의\n",
    "class NOLA_MobileNetV3(nn.Module):\n",
    "    def __init__(self, num_classes=100):\n",
    "        super(NOLA_MobileNetV3, self).__init__()\n",
    "\n",
    "        # 기본 Conv 레이어\n",
    "        self.conv1 = nn.Conv2d(3, 16, kernel_size=3, stride=2, padding=1, bias=False)\n",
    "        self.bn1 = nn.BatchNorm2d(16)\n",
    "\n",
    "        # Inverted Residual Blocks와 SE Block 사용\n",
    "        self.block1 = InvertedResidual(16, 24, stride=2, expand_ratio=3)\n",
    "        self.block2 = InvertedResidual(24, 32, stride=2, expand_ratio=3)\n",
    "        self.block3 = InvertedResidual(32, 64, stride=2, expand_ratio=4)\n",
    "        self.block4 = InvertedResidual(64, 128, stride=2, expand_ratio=4)\n",
    "\n",
    "        # GAP 적용\n",
    "        self.gap = nn.AdaptiveAvgPool2d((1, 1))\n",
    "        self.fc = nn.Linear(128, num_classes)\n",
    "\n",
    "    def forward(self, x):\n",
    "        x = F.relu(self.bn1(self.conv1(x)), inplace=True)\n",
    "        x = self.block1(x)\n",
    "        x = self.block2(x)\n",
    "        x = self.block3(x)\n",
    "        x = self.block4(x)\n",
    "        x = self.gap(x)\n",
    "        x = x.view(x.size(0), -1)\n",
    "        x = self.fc(x)\n",
    "        return x\n",
    "    \n",
    "model = NOLA_MobileNetV3().cuda()\n",
    "summary(model, (3, 224, 224))  # 모델 구조 요약"
   ]
  },
  {
   "cell_type": "markdown",
   "id": "1cb20010",
   "metadata": {
    "papermill": {
     "duration": 0.006721,
     "end_time": "2024-10-15T15:07:04.115385",
     "exception": false,
     "start_time": "2024-10-15T15:07:04.108664",
     "status": "completed"
    },
    "tags": []
   },
   "source": [
    "# NOLA LinearLayer\n"
   ]
  },
  {
   "cell_type": "code",
   "execution_count": 8,
   "id": "1165d57f",
   "metadata": {
    "execution": {
     "iopub.execute_input": "2024-10-15T15:07:04.130311Z",
     "iopub.status.busy": "2024-10-15T15:07:04.129985Z",
     "iopub.status.idle": "2024-10-15T15:07:04.145082Z",
     "shell.execute_reply": "2024-10-15T15:07:04.144329Z"
    },
    "papermill": {
     "duration": 0.024791,
     "end_time": "2024-10-15T15:07:04.146913",
     "exception": false,
     "start_time": "2024-10-15T15:07:04.122122",
     "status": "completed"
    },
    "tags": []
   },
   "outputs": [],
   "source": [
    "class GenerateParams(torch.autograd.Function):\n",
    "    # Generate parameters on the fly with random basis\n",
    "    \n",
    "    @staticmethod    \n",
    "    def forward(ctx, coefficients, out_dim, in_dim, seed): \n",
    "        num_basis = coefficients.shape[0]\n",
    "        Out = torch.zeros(out_dim, in_dim).to(coefficients.device)\n",
    "        rand_seed = torch.randint(int(1e10), (1,))\n",
    "        torch.manual_seed(seed)\n",
    "        \n",
    "        W = torch.zeros(num_basis, out_dim, in_dim, \n",
    "                        device=coefficients.device, dtype=coefficients.dtype)\n",
    "        nn.init.uniform_(W, a=-1.0, b=1.0)\n",
    "        Out = torch.einsum('b,boi->oi', coefficients, W)\n",
    "        \n",
    "        params = torch.autograd.Variable(torch.tensor([out_dim, in_dim, seed]))\n",
    "        ctx.save_for_backward(coefficients, params)\n",
    "        torch.manual_seed(rand_seed)\n",
    "        return Out \n",
    "    \n",
    "    @staticmethod\n",
    "    def backward(ctx, grad_output):\n",
    "        coefficients, params = ctx.saved_tensors\n",
    "        num_basis = coefficients.shape[0]\n",
    "\n",
    "        out_dim, in_dim, seed = params\n",
    "        rand_seed = torch.randint(int(1e10), (1,))\n",
    "        torch.manual_seed(seed)\n",
    "        grad_coefficients = torch.empty(0).to(grad_output.device)\n",
    "\n",
    "        W = torch.zeros(num_basis, out_dim, in_dim, \n",
    "                        device=coefficients.device, dtype=coefficients.dtype)\n",
    "        nn.init.uniform_(W, a=-1.0, b=1.0) \n",
    "        W = W.permute(1, 2, 0).reshape(-1, num_basis)\n",
    "        grad_coefficients = torch.einsum('d,dl->l', grad_output.flatten(), W)\n",
    "\n",
    "        torch.manual_seed(rand_seed)    \n",
    "        return grad_coefficients, None, None, None\n",
    "\n",
    "\n",
    "# NOLA Linear Layer 정의 수정\n",
    "class NOLALinear(nn.Linear): \n",
    "    def __init__(self, in_features: int, out_features: int, coefficients: torch.Tensor, seed: int, num_basis=128, **kwargs):\n",
    "        super(NOLALinear, self).__init__(in_features, out_features, **kwargs)\n",
    "        self.num_basis = num_basis \n",
    "        self.generate_params = GenerateParams.apply\n",
    "        self.coefficients = nn.Parameter(coefficients, requires_grad=True)\n",
    "        self.seed = nn.Parameter(torch.tensor(seed), requires_grad=False)\n",
    "        self.weight.requires_grad = False\n",
    "        \n",
    "    def extra_repr(self) -> str:\n",
    "        return 'in_features={}, out_features={}, num_basis={}'.format(\n",
    "            self.in_features, self.out_features, self.num_basis)  \n",
    "\n",
    "    def forward(self, x: torch.Tensor):\n",
    "        W = self.generate_params(self.coefficients,\n",
    "                          self.out_features,\n",
    "                          self.in_features,\n",
    "                          self.seed) + self.weight\n",
    "        return x @ W.t()\n"
   ]
  },
  {
   "cell_type": "markdown",
   "id": "3fd04839",
   "metadata": {
    "papermill": {
     "duration": 0.00655,
     "end_time": "2024-10-15T15:07:04.160306",
     "exception": false,
     "start_time": "2024-10-15T15:07:04.153756",
     "status": "completed"
    },
    "tags": []
   },
   "source": [
    "# 7: 데이터 전처리"
   ]
  },
  {
   "cell_type": "code",
   "execution_count": 9,
   "id": "c48b1fea",
   "metadata": {
    "execution": {
     "iopub.execute_input": "2024-10-15T15:07:04.176085Z",
     "iopub.status.busy": "2024-10-15T15:07:04.175785Z",
     "iopub.status.idle": "2024-10-15T15:07:04.182224Z",
     "shell.execute_reply": "2024-10-15T15:07:04.181400Z"
    },
    "papermill": {
     "duration": 0.016034,
     "end_time": "2024-10-15T15:07:04.184130",
     "exception": false,
     "start_time": "2024-10-15T15:07:04.168096",
     "status": "completed"
    },
    "tags": []
   },
   "outputs": [],
   "source": [
    "# 여러 Augmentation 기법 적용 (좌우반전, 회전, 크기 조절 등)\n",
    "transform = transforms.Compose([\n",
    "    transforms.ToPILImage(),  # 이 부분을 가장 마지막에 두어야 합니다.\n",
    "    transforms.RandomHorizontalFlip(),\n",
    "    transforms.RandomRotation(10),\n",
    "    transforms.Resize((224, 224)),\n",
    "    transforms.RandomCrop(224, padding=4),\n",
    "    transforms.ColorJitter(brightness=0.2, contrast=0.2, saturation=0.2, hue=0.1),\n",
    "    transforms.ToTensor(),  # 이미지를 텐서로 변환\n",
    "    transforms.Normalize(mean=[0.485, 0.456, 0.406], std=[0.229, 0.224, 0.225]),  # 이미지 정규화\n",
    "    transforms.RandomErasing()  # RandomErasing 추가\n",
    "])"
   ]
  },
  {
   "cell_type": "markdown",
   "id": "30afea85",
   "metadata": {
    "papermill": {
     "duration": 0.006665,
     "end_time": "2024-10-15T15:07:04.197636",
     "exception": false,
     "start_time": "2024-10-15T15:07:04.190971",
     "status": "completed"
    },
    "tags": []
   },
   "source": [
    "# 8: 데이터 로딩"
   ]
  },
  {
   "cell_type": "code",
   "execution_count": 10,
   "id": "e3128342",
   "metadata": {
    "execution": {
     "iopub.execute_input": "2024-10-15T15:07:04.212229Z",
     "iopub.status.busy": "2024-10-15T15:07:04.211956Z",
     "iopub.status.idle": "2024-10-15T15:07:05.881176Z",
     "shell.execute_reply": "2024-10-15T15:07:05.880377Z"
    },
    "papermill": {
     "duration": 1.679031,
     "end_time": "2024-10-15T15:07:05.883398",
     "exception": false,
     "start_time": "2024-10-15T15:07:04.204367",
     "status": "completed"
    },
    "tags": []
   },
   "outputs": [],
   "source": [
    "# - 학습 및 검증 데이터 로드 (Kaggle에서 데이터 불러오기)\n",
    "train = np.load('/kaggle/input/2024-ai-challenge/trainset.npy')\n",
    "label = np.load('/kaggle/input/2024-ai-challenge/trainlabel.npy')\n",
    "\n",
    "# 학습 및 검증 데이터 분할\n",
    "X_train, X_val, y_train, y_val = train_test_split(train, label, test_size=0.2, random_state=42)\n",
    "train_dataset = CustomDataset(X_train, y_train, transform=transform)\n",
    "train_loader = DataLoader(train_dataset, batch_size=128, shuffle=True, num_workers=4)\n",
    "\n",
    "val_dataset = CustomDataset(X_val, y_val, transform=transform)\n",
    "val_loader = DataLoader(val_dataset, batch_size=128, shuffle=False, num_workers=4)\n",
    "\n",
    "#배치사이즈 튜닝해보기\n"
   ]
  },
  {
   "cell_type": "markdown",
   "id": "f9634218",
   "metadata": {
    "papermill": {
     "duration": 0.006831,
     "end_time": "2024-10-15T15:07:05.897380",
     "exception": false,
     "start_time": "2024-10-15T15:07:05.890549",
     "status": "completed"
    },
    "tags": []
   },
   "source": [
    "# 10: 학습 준비"
   ]
  },
  {
   "cell_type": "code",
   "execution_count": 11,
   "id": "30bcdf26",
   "metadata": {
    "execution": {
     "iopub.execute_input": "2024-10-15T15:07:05.912674Z",
     "iopub.status.busy": "2024-10-15T15:07:05.912287Z",
     "iopub.status.idle": "2024-10-15T15:07:05.918989Z",
     "shell.execute_reply": "2024-10-15T15:07:05.918112Z"
    },
    "papermill": {
     "duration": 0.016556,
     "end_time": "2024-10-15T15:07:05.920946",
     "exception": false,
     "start_time": "2024-10-15T15:07:05.904390",
     "status": "completed"
    },
    "tags": []
   },
   "outputs": [],
   "source": [
    "num_epochs = 500  # 최대 Epoch 수 (200으로 설정, 조기 종료가 있으면 더 적을 수 있음)\n",
    "learning_rate = 0.01  # 초기 학습률 (0.01로 조정)\n",
    "weight_decay = 1e-4  # weight decay (L2 정규화)\n",
    "\n",
    "criterion = nn.CrossEntropyLoss()\n",
    "optimizer = torch.optim.Adam(model.parameters(), lr=learning_rate, weight_decay=weight_decay)\n",
    "scheduler = torch.optim.lr_scheduler.CosineAnnealingLR(optimizer, T_max=num_epochs, eta_min=0)\n",
    "\n",
    "# Early Stopping 기준\n",
    "early_stopping_patience = 10\n",
    "best_val_accuracy = 0\n",
    "early_stopping_counter = 0\n"
   ]
  },
  {
   "cell_type": "markdown",
   "id": "3d32b001",
   "metadata": {
    "papermill": {
     "duration": 0.006542,
     "end_time": "2024-10-15T15:07:05.934398",
     "exception": false,
     "start_time": "2024-10-15T15:07:05.927856",
     "status": "completed"
    },
    "tags": []
   },
   "source": [
    "# 11: 학습 및 검증 루프"
   ]
  },
  {
   "cell_type": "code",
   "execution_count": 12,
   "id": "aad0661b",
   "metadata": {
    "execution": {
     "iopub.execute_input": "2024-10-15T15:07:05.949303Z",
     "iopub.status.busy": "2024-10-15T15:07:05.948824Z",
     "iopub.status.idle": "2024-10-15T16:25:26.904585Z",
     "shell.execute_reply": "2024-10-15T16:25:26.903381Z"
    },
    "papermill": {
     "duration": 4700.976902,
     "end_time": "2024-10-15T16:25:26.918030",
     "exception": false,
     "start_time": "2024-10-15T15:07:05.941128",
     "status": "completed"
    },
    "tags": []
   },
   "outputs": [
    {
     "name": "stdout",
     "output_type": "stream",
     "text": [
      "Epoch [1/500], Loss: 3.8685, Train Accuracy: 0.0982\n",
      "Validation Accuracy: 0.0998\n",
      "Current learning rate: [0.009999999016983487]\n",
      "New best model saved at epoch 1 with val accuracy: 0.0998\n"
     ]
    },
    {
     "name": "stderr",
     "output_type": "stream",
     "text": [
      "/opt/conda/lib/python3.10/site-packages/torch/optim/lr_scheduler.py:232: UserWarning: The epoch parameter in `scheduler.step()` was not necessary and is being deprecated where possible. Please use `scheduler.step()` to step the scheduler. During the deprecation, if epoch is different from None, the closed form is used instead of the new chainable form, where available. Please open an issue if you are unable to replicate your use case: https://github.com/pytorch/pytorch/issues/new/choose.\n",
      "  warnings.warn(EPOCH_DEPRECATION_WARNING, UserWarning)\n"
     ]
    },
    {
     "name": "stdout",
     "output_type": "stream",
     "text": [
      "Epoch [2/500], Loss: 3.3704, Train Accuracy: 0.1777\n",
      "Validation Accuracy: 0.1564\n",
      "Current learning rate: [0.009999997585800209]\n",
      "New best model saved at epoch 2 with val accuracy: 0.1564\n",
      "Epoch [3/500], Loss: 3.1127, Train Accuracy: 0.2251\n",
      "Validation Accuracy: 0.1909\n",
      "Current learning rate: [0.009999996403239252]\n",
      "New best model saved at epoch 3 with val accuracy: 0.1909\n",
      "Epoch [4/500], Loss: 2.9651, Train Accuracy: 0.2544\n",
      "Validation Accuracy: 0.2017\n",
      "Current learning rate: [0.009999995984760235]\n",
      "New best model saved at epoch 4 with val accuracy: 0.2017\n",
      "Epoch [5/500], Loss: 2.8649, Train Accuracy: 0.2758\n",
      "Validation Accuracy: 0.2238\n",
      "Current learning rate: [0.009999995056667328]\n",
      "New best model saved at epoch 5 with val accuracy: 0.2238\n",
      "Epoch [6/500], Loss: 2.7934, Train Accuracy: 0.2898\n",
      "Validation Accuracy: 0.1914\n",
      "Current learning rate: [0.009999996384373508]\n",
      "Epoch [7/500], Loss: 2.7375, Train Accuracy: 0.3020\n",
      "Validation Accuracy: 0.2530\n",
      "Current learning rate: [0.00999999368256625]\n",
      "New best model saved at epoch 7 with val accuracy: 0.2530\n",
      "Epoch [8/500], Loss: 2.6914, Train Accuracy: 0.3114\n",
      "Validation Accuracy: 0.2257\n",
      "Current learning rate: [0.009999994972375999]\n",
      "Epoch [9/500], Loss: 2.6416, Train Accuracy: 0.3192\n",
      "Validation Accuracy: 0.2465\n",
      "Current learning rate: [0.009999994003007499]\n",
      "Epoch [10/500], Loss: 2.6218, Train Accuracy: 0.3275\n",
      "Validation Accuracy: 0.2688\n",
      "Current learning rate: [0.009999992868873]\n",
      "New best model saved at epoch 10 with val accuracy: 0.2688\n",
      "Epoch [11/500], Loss: 2.5856, Train Accuracy: 0.3326\n",
      "Validation Accuracy: 0.2503\n",
      "Current learning rate: [0.009999993816685235]\n",
      "Epoch [12/500], Loss: 2.5686, Train Accuracy: 0.3371\n",
      "Validation Accuracy: 0.2828\n",
      "Current learning rate: [0.009999992106703054]\n",
      "New best model saved at epoch 12 with val accuracy: 0.2828\n",
      "Epoch [13/500], Loss: 2.5531, Train Accuracy: 0.3407\n",
      "Validation Accuracy: 0.2647\n",
      "Current learning rate: [0.009999993084755692]\n",
      "Epoch [14/500], Loss: 2.5267, Train Accuracy: 0.3476\n",
      "Validation Accuracy: 0.2830\n",
      "Current learning rate: [0.009999992095534614]\n",
      "New best model saved at epoch 14 with val accuracy: 0.2830\n",
      "Epoch [15/500], Loss: 2.5130, Train Accuracy: 0.3502\n",
      "Validation Accuracy: 0.3004\n",
      "Current learning rate: [0.009999991093655842]\n",
      "New best model saved at epoch 15 with val accuracy: 0.3004\n",
      "Epoch [16/500], Loss: 2.4958, Train Accuracy: 0.3529\n",
      "Validation Accuracy: 0.2991\n",
      "Current learning rate: [0.009999991170574558]\n",
      "Epoch [17/500], Loss: 2.4871, Train Accuracy: 0.3531\n",
      "Validation Accuracy: 0.2424\n",
      "Current learning rate: [0.009999994200842655]\n",
      "Epoch [18/500], Loss: 2.4608, Train Accuracy: 0.3607\n",
      "Validation Accuracy: 0.3109\n",
      "Current learning rate: [0.009999990460160868]\n",
      "New best model saved at epoch 18 with val accuracy: 0.3109\n",
      "Epoch [19/500], Loss: 2.4495, Train Accuracy: 0.3645\n",
      "Validation Accuracy: 0.2820\n",
      "Current learning rate: [0.00999999215129785]\n",
      "Epoch [20/500], Loss: 2.4390, Train Accuracy: 0.3647\n",
      "Validation Accuracy: 0.3201\n",
      "Current learning rate: [0.009999989887210969]\n",
      "New best model saved at epoch 20 with val accuracy: 0.3201\n",
      "Epoch [21/500], Loss: 2.4298, Train Accuracy: 0.3650\n",
      "Validation Accuracy: 0.2988\n",
      "Current learning rate: [0.009999991188277657]\n",
      "Epoch [22/500], Loss: 2.4160, Train Accuracy: 0.3672\n",
      "Validation Accuracy: 0.2891\n",
      "Current learning rate: [0.009999991751104357]\n",
      "Epoch [23/500], Loss: 2.3999, Train Accuracy: 0.3743\n",
      "Validation Accuracy: 0.2505\n",
      "Current learning rate: [0.009999993806799843]\n",
      "Epoch [24/500], Loss: 2.3971, Train Accuracy: 0.3749\n",
      "Validation Accuracy: 0.2705\n",
      "Current learning rate: [0.009999992778387524]\n",
      "Epoch [25/500], Loss: 2.4040, Train Accuracy: 0.3734\n",
      "Validation Accuracy: 0.3062\n",
      "Current learning rate: [0.009999990746415735]\n",
      "Epoch [26/500], Loss: 2.3826, Train Accuracy: 0.3783\n",
      "Validation Accuracy: 0.2596\n",
      "Current learning rate: [0.009999993348661886]\n",
      "Epoch [27/500], Loss: 2.3718, Train Accuracy: 0.3816\n",
      "Validation Accuracy: 0.3084\n",
      "Current learning rate: [0.009999990612966922]\n",
      "Epoch [28/500], Loss: 2.3602, Train Accuracy: 0.3829\n",
      "Validation Accuracy: 0.2943\n",
      "Current learning rate: [0.009999991451692312]\n",
      "Epoch [29/500], Loss: 2.3555, Train Accuracy: 0.3841\n",
      "Validation Accuracy: 0.2980\n",
      "Current learning rate: [0.009999991235399068]\n",
      "Epoch [30/500], Loss: 2.3623, Train Accuracy: 0.3810\n",
      "Validation Accuracy: 0.3047\n",
      "Current learning rate: [0.009999990836855798]\n",
      "Early stopping at epoch 30\n"
     ]
    }
   ],
   "source": [
    "\n",
    "# - 모델 학습 및 검증을 수행하는 메인 루프\n",
    "for epoch in range(num_epochs):\n",
    "    model.train()\n",
    "    total_loss = 0\n",
    "    correct = 0\n",
    "\n",
    "    # 학습 루프\n",
    "    for batch_features, batch_labels in train_loader:\n",
    "        batch_features, batch_labels = batch_features.cuda(), batch_labels.cuda()\n",
    "        optimizer.zero_grad()\n",
    "        outputs = model(batch_features)\n",
    "        loss = criterion(outputs, batch_labels)\n",
    "        loss.backward()\n",
    "        optimizer.step()\n",
    "\n",
    "        total_loss += loss.item()\n",
    "        _, predicted = torch.max(outputs, 1)\n",
    "        correct += (predicted == batch_labels).sum().item()\n",
    "\n",
    "    # 학습 결과 출력\n",
    "    average_loss = total_loss / len(train_loader)\n",
    "    train_accuracy = correct / len(train_dataset)\n",
    "    print(f'Epoch [{epoch + 1}/{num_epochs}], Loss: {average_loss:.4f}, Train Accuracy: {train_accuracy:.4f}')\n",
    "\n",
    "    # 검증 루프\n",
    "    model.eval()\n",
    "    val_correct = 0\n",
    "    with torch.no_grad():\n",
    "        for val_features, val_labels in val_loader:\n",
    "            val_features, val_labels = val_features.cuda(), val_labels.cuda()\n",
    "            val_outputs = model(val_features)\n",
    "            _, val_predicted = torch.max(val_outputs, 1)\n",
    "            val_correct += (val_predicted == val_labels).sum().item()\n",
    "\n",
    "    # 검증 정확도 출력\n",
    "    val_accuracy = val_correct / len(val_dataset)\n",
    "    print(f'Validation Accuracy: {val_accuracy:.4f}')\n",
    "\n",
    "    # 스케줄러를 통해 학습률 조정\n",
    "    scheduler.step(val_accuracy)\n",
    "    print(\"Current learning rate:\", scheduler.get_last_lr())\n",
    "    \n",
    "    # Early Stopping 체크\n",
    "    if val_accuracy > best_val_accuracy:\n",
    "        best_val_accuracy = val_accuracy\n",
    "        early_stopping_counter = 0\n",
    "        # 모델 저장\n",
    "        torch.save(model.state_dict(), 'best_model.pth')\n",
    "        print(f\"New best model saved at epoch {epoch + 1} with val accuracy: {val_accuracy:.4f}\")\n",
    "    else:\n",
    "        early_stopping_counter += 1\n",
    "        if early_stopping_counter >= early_stopping_patience:\n",
    "            print(f\"Early stopping at epoch {epoch + 1}\")\n",
    "            break\n"
   ]
  },
  {
   "cell_type": "markdown",
   "id": "8a197da9",
   "metadata": {
    "papermill": {
     "duration": 0.011089,
     "end_time": "2024-10-15T16:25:26.940612",
     "exception": false,
     "start_time": "2024-10-15T16:25:26.929523",
     "status": "completed"
    },
    "tags": []
   },
   "source": [
    "# 12: 테스트 데이터 예측 수행"
   ]
  },
  {
   "cell_type": "code",
   "execution_count": 13,
   "id": "23ddde5a",
   "metadata": {
    "execution": {
     "iopub.execute_input": "2024-10-15T16:25:26.965523Z",
     "iopub.status.busy": "2024-10-15T16:25:26.964629Z",
     "iopub.status.idle": "2024-10-15T16:26:36.992757Z",
     "shell.execute_reply": "2024-10-15T16:26:36.991878Z"
    },
    "papermill": {
     "duration": 70.056566,
     "end_time": "2024-10-15T16:26:37.008559",
     "exception": false,
     "start_time": "2024-10-15T16:25:26.951993",
     "status": "completed"
    },
    "tags": []
   },
   "outputs": [
    {
     "name": "stderr",
     "output_type": "stream",
     "text": [
      "/tmp/ipykernel_24/145435278.py:2: FutureWarning: You are using `torch.load` with `weights_only=False` (the current default value), which uses the default pickle module implicitly. It is possible to construct malicious pickle data which will execute arbitrary code during unpickling (See https://github.com/pytorch/pytorch/blob/main/SECURITY.md#untrusted-models for more details). In a future release, the default value for `weights_only` will be flipped to `True`. This limits the functions that could be executed during unpickling. Arbitrary objects will no longer be allowed to be loaded via this mode unless they are explicitly allowlisted by the user via `torch.serialization.add_safe_globals`. We recommend you start setting `weights_only=True` for any use case where you don't have full control of the loaded file. Please open an issue on GitHub for any issues related to this experimental feature.\n",
      "  model.load_state_dict(torch.load('best_model.pth'))  # 가장 성능이 좋은 모델 로드\n"
     ]
    },
    {
     "name": "stdout",
     "output_type": "stream",
     "text": [
      "Submission file has been saved as 'submission.csv'\n"
     ]
    }
   ],
   "source": [
    "\n",
    "# - 가장 성능이 좋은 모델을 로드하고 테스트 데이터에 대한 예측을 수행\n",
    "model.load_state_dict(torch.load('best_model.pth'))  # 가장 성능이 좋은 모델 로드\n",
    "model.eval()\n",
    "predictions = []\n",
    "\n",
    "with torch.no_grad():\n",
    "    test = np.load('/kaggle/input/2024-ai-challenge/testset.npy')  # 테스트 데이터 불러오기\n",
    "    test_dataset = CustomDataset(test, np.zeros((test.shape[0], 100)), transform=transform)\n",
    "    test_loader = DataLoader(test_dataset, batch_size=32, shuffle=False)\n",
    "    \n",
    "    for test_features, _ in test_loader:\n",
    "        test_features = test_features.cuda()\n",
    "        outputs = model(test_features)\n",
    "        predictions.append(outputs.cpu().numpy())\n",
    "\n",
    "# 예측 결과 합치기\n",
    "predictions = np.concatenate(predictions, axis=0)\n",
    "\n",
    "# 예측된 클래스의 인덱스를 얻음\n",
    "predicted_classes = np.argmax(predictions, axis=1)\n",
    "\n",
    "# 결과를 DataFrame으로 변환\n",
    "submission_df = pd.DataFrame({\n",
    "    'id_idx': np.arange(len(predicted_classes)),\n",
    "    'label': predicted_classes\n",
    "})\n",
    "\n",
    "# CSV 파일로 저장\n",
    "submission_filename = 'submission.csv'\n",
    "submission_df.to_csv(submission_filename, index=False)\n",
    "\n",
    "print(f\"Submission file has been saved as '{submission_filename}'\")\n"
   ]
  }
 ],
 "metadata": {
  "kaggle": {
   "accelerator": "nvidiaTeslaT4",
   "dataSources": [
    {
     "databundleVersionId": 9473141,
     "sourceId": 84531,
     "sourceType": "competition"
    }
   ],
   "dockerImageVersionId": 30787,
   "isGpuEnabled": true,
   "isInternetEnabled": true,
   "language": "python",
   "sourceType": "notebook"
  },
  "kernelspec": {
   "display_name": "Python 3",
   "language": "python",
   "name": "python3"
  },
  "language_info": {
   "codemirror_mode": {
    "name": "ipython",
    "version": 3
   },
   "file_extension": ".py",
   "mimetype": "text/x-python",
   "name": "python",
   "nbconvert_exporter": "python",
   "pygments_lexer": "ipython3",
   "version": "3.10.14"
  },
  "papermill": {
   "default_parameters": {},
   "duration": 4800.84704,
   "end_time": "2024-10-15T16:26:39.839681",
   "environment_variables": {},
   "exception": null,
   "input_path": "__notebook__.ipynb",
   "output_path": "__notebook__.ipynb",
   "parameters": {},
   "start_time": "2024-10-15T15:06:38.992641",
   "version": "2.6.0"
  }
 },
 "nbformat": 4,
 "nbformat_minor": 5
}
